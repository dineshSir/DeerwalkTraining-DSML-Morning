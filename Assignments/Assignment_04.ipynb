{
 "cells": [
  {
   "cell_type": "markdown",
   "id": "b667e9e9-95e9-4fff-80d6-aad176626609",
   "metadata": {},
   "source": [
    "1. Write a program display “Hello World!”."
   ]
  },
  {
   "cell_type": "code",
   "execution_count": null,
   "id": "8217012f-5e45-493b-a107-0613167f7dd8",
   "metadata": {},
   "outputs": [],
   "source": [
    "#Q1\n",
    "print(\"Hello World!\")"
   ]
  },
  {
   "cell_type": "markdown",
   "id": "c7a212dc-1272-414f-a18b-138acb8b885d",
   "metadata": {},
   "source": [
    "2. Write a program to find sum of two numbers. Use input() function to take input from the\n",
    "user."
   ]
  },
  {
   "cell_type": "code",
   "execution_count": null,
   "id": "7195796e-5419-41cb-ba6b-760c03580354",
   "metadata": {},
   "outputs": [],
   "source": [
    "#Q2\n",
    "num1, num2 = int(input(\"Enter first number: \")), int(input(\"Enter second number:\"))\n",
    "print(f\"The sum of the numbers given is: {num1+num2}\")"
   ]
  },
  {
   "cell_type": "markdown",
   "id": "79ca4fbc-7e49-4943-87c0-ba1b1a7a16d9",
   "metadata": {},
   "source": [
    "3. Write a program to calculate discount on the basis of following assumption:\n",
    "a) If purchased amount is greater than or equal to 1000, discount is 5%"
   ]
  },
  {
   "cell_type": "code",
   "execution_count": null,
   "id": "ff267b31-0f86-4a20-9dc3-b34d05411f65",
   "metadata": {},
   "outputs": [],
   "source": [
    "#Q3\n",
    "purchased_amount = int(input(\"Enter the total purchase amount:\"))\n",
    "if purchased_amount >= 1000:\n",
    "    discount_amount = 0.05 * purchased_amount\n",
    "    print(f\"The discounted amount is: {discount_amount}\")\n",
    "else:\n",
    "    print(\"Your purchase amount is insufficient for discount of 5%.\")"
   ]
  },
  {
   "cell_type": "markdown",
   "id": "0684aa80-0cc7-49ca-98f8-bf39f2d9a6f1",
   "metadata": {},
   "source": [
    "4. Write a program to calculate discount on the basis of following assumption:\n",
    "a) If purchased amount is greater than or equal to 1000, discount is 5%\n",
    "b) If purchased amount is less than 1000, discount is 3%"
   ]
  },
  {
   "cell_type": "code",
   "execution_count": null,
   "id": "dc2201fb-7811-4dfb-a7f0-284b76c2d98d",
   "metadata": {},
   "outputs": [],
   "source": [
    "#Q4\n",
    "purchased_amount = int(input(\"Enter the total purchase amount:\"))\n",
    "if purchased_amount >= 1000:\n",
    "    discount_amount = 0.05 * purchased_amount\n",
    "else:\n",
    "    discount_amount = 0.03 * purchased_amount\n",
    "\n",
    "print(f\"Your purchase amount is: {discount_amount}.\")"
   ]
  },
  {
   "cell_type": "markdown",
   "id": "62af92c1-ac10-414c-8c25-243289ec4659",
   "metadata": {},
   "source": [
    "5. Write a program to calculate discount on the basis of following assumption:\n",
    "a) If purchased amount is greater than or equal to 5000, discount is 10%\n",
    "b) If purchased amount is greater than or equal to 4000 and less than 5000, discount is 7%\n",
    "c) If purchased amount is greater than or equal to 3000 and less than 4000, discount is 5%\n",
    "d) If purchased amount is greater than or equal to 2000 and less than 3000, discount is 3%\n",
    "e) If purchased amount is less than 2000, discount is 2%"
   ]
  },
  {
   "cell_type": "code",
   "execution_count": null,
   "id": "aa416a5d-ab6f-4943-9a4f-4a72a22fcb52",
   "metadata": {},
   "outputs": [],
   "source": [
    "#Q5\n",
    "purchased_amount = int(input(\"Enter the total purchase amount:\"))\n",
    "if purchased_amount >= 2000:\n",
    "    if purchased_amount < 3000:\n",
    "        discount_amount = purchased_amount * 0.03\n",
    "    else:\n",
    "        if purchased_amount < 4000:\n",
    "            discount_amount = purchased_amount * 0.05\n",
    "        else:\n",
    "            if purchased_amount < 5000:\n",
    "                discount_amount = purchased_amount * 0.07\n",
    "            else:\n",
    "                discount_amount = purchased_amount * 0.1     \n",
    "else:\n",
    "    discount_amount = 0.02 * purchased_amount\n",
    "    \n",
    "print(f\"The discount amount is: {discount_amount}\")"
   ]
  },
  {
   "cell_type": "markdown",
   "id": "7d0852d6-3c5a-4f05-a595-cb0b121f912a",
   "metadata": {},
   "source": [
    "6. Write a program to calculate the simple interest on the basis of following assumption:\n",
    "a) If balance is greater than 99999, interest is 7 %\n",
    "b) If balance is greater than or equal to 50000 and less than 100000 interest is 5 %\n",
    "c) If balance is less than 50000, interest is 3%"
   ]
  },
  {
   "cell_type": "code",
   "execution_count": null,
   "id": "d820ddfe-b7c4-411c-a61c-50a9fbb1c9db",
   "metadata": {},
   "outputs": [],
   "source": [
    "#Q6\n",
    "balance = int(input(\"Enter the balance amount: \"))\n",
    "duration_in_years = int(input(\"Enter the duration in years: \"))\n",
    "if balance >= 50000:\n",
    "    if balance < 100000:\n",
    "        rate = 0.05\n",
    "    else:\n",
    "        rate = 0.07\n",
    "        \n",
    "else:\n",
    "    rate = 0.03\n",
    "interest = balance * duration_in_years * rate\n",
    "print(f\"The interest amount is: {interest}, with interest rate of {int(rate * 100)}%.\")"
   ]
  },
  {
   "cell_type": "markdown",
   "id": "7cd4d052-fabe-4dab-8e7e-84f1b2a41e5f",
   "metadata": {},
   "source": [
    "7. Write a program to test whether a number is even or odd."
   ]
  },
  {
   "cell_type": "code",
   "execution_count": null,
   "id": "4af52791-c69d-443a-ab9c-beb8ee8759c3",
   "metadata": {},
   "outputs": [],
   "source": [
    "check_number = int(input(\"Enter the number to check if odd or even:\"))\n",
    "print(\"The Number is Even.\" if check_number%2 == 0 else \"The Number is Odd\")\n"
   ]
  },
  {
   "cell_type": "markdown",
   "id": "f92b2555-338a-4b2d-b527-7ca4ea44ee3f",
   "metadata": {},
   "source": [
    "8. Admission to a professional course is subject to the following conditions:\n",
    "a) Marks in mathematics >=60\n",
    "b) Marks in physics >=50\n",
    "c) Marks in chemistry >=40\n",
    "d) Total in all three subjects >=200\n",
    "    Or\n",
    "Total in mathematics and physics>=150\n",
    "\n",
    "Given the marks in three subjects, write a program to process the applications to list eligible candidates."
   ]
  },
  {
   "cell_type": "code",
   "execution_count": null,
   "id": "3fdbc2e6-4b0d-47b3-945a-922d02ceec29",
   "metadata": {},
   "outputs": [],
   "source": [
    "#Q8\n",
    "class Student:\n",
    "    def __init__(self, name, math, physics, chemistry):\n",
    "        self.name = name\n",
    "        self.math = math\n",
    "        self.physics = physics\n",
    "        self.chemistry = chemistry\n",
    "        self.all_total = math + physics + chemistry\n",
    "        self.math_physics_total = math + physics\n",
    "\n",
    "    def __str__(self):\n",
    "        return f\"{self.name}\"\n",
    "\n",
    "    @classmethod\n",
    "    def createStudent(cls, students_list, name, math, physics, chemistry):\n",
    "        students_list.append(cls(name, math, physics, chemistry))\n",
    "        return\n",
    "\n",
    "    def isEligible(self):\n",
    "        if self.math_physics_total >= 150 or self.all_total >= 200 or (self.math >= 60 and self.physics >= 50 and self.chemistry >= 40):\n",
    "            return True\n",
    "        else:\n",
    "            return False\n",
    "\n",
    "def takeDetails(number_of_students, student_list):\n",
    "    for i in range(1, number_of_students+1):\n",
    "        name = input(\"Enter the name of student: \")\n",
    "        print(\"-------------------------------------------\")\n",
    "        print(f\"Enter marks of {name}, in each subjects:\")\n",
    "        math, physics, chemistry = int(input(\"Mathematics: \")), int(input(\"Physics: \")), int(input(\"Chemistry:\"))\n",
    "        Student.createStudent(students_list, name, math, physics, chemistry)\n",
    "\n",
    "if __name__ == \"__main__\":\n",
    "    number_of_students = int(input(\"Enter the total number of students:\"))\n",
    "    students_list = []\n",
    "    takeDetails(number_of_students, students_list)\n",
    "\n",
    "    print(\"---------------------------------------------------\")\n",
    "    print(\"---------------------------------------------------\")\n",
    "    print(\"The students eligible for professional course are:\")\n",
    "    for student in students_list:\n",
    "        if student.isEligible():\n",
    "            print(f\"{student.name}\")\n",
    "\n",
    "    print(\"------------------\")\n",
    "    print(\"The students not eligible for professional course are:\")\n",
    "    index = 0\n",
    "    for student in students_list:\n",
    "        if not student.isEligible():\n",
    "            print(f\"{student.name}\")\n",
    "        "
   ]
  },
  {
   "cell_type": "markdown",
   "id": "0e3c19cf-da02-4276-93e6-62ad30f45aea",
   "metadata": {},
   "source": [
    "9. The rates of tax on gross salary are as shown below:\n",
    "        Income Tax\n",
    "    Less than 10,000 Nill\n",
    "    Rs. 10,000 to 19,999 10%\n",
    "    Rs. 20,000 to 39,999 15%\n",
    "    Rs. 40,000 to above 20%\n",
    "Write a program to compute the net salary after deducting the tax for the given information and print the same."
   ]
  },
  {
   "cell_type": "code",
   "execution_count": null,
   "id": "9fd2ccd4-48d1-4d51-b030-a5037ba65ad6",
   "metadata": {},
   "outputs": [],
   "source": [
    "#Q9\n",
    "salary = int(input(\"Enter your salary: \"))\n",
    "if salary >= 10000:\n",
    "    if salary < 20000:\n",
    "        income_tax = 0.1\n",
    "    else:\n",
    "        if salary < 40000:\n",
    "            income_tax = 0.15\n",
    "        else:\n",
    "            income_tax = 0.2\n",
    "else:\n",
    "    income_tax = 0.00\n",
    "\n",
    "gross_salary = (1 - income_tax) * salary\n",
    "print(f\"Your gross salary is: {gross_salary}\")"
   ]
  },
  {
   "cell_type": "markdown",
   "id": "9413dbfe-6e17-4285-9c28-d9dd6b98424b",
   "metadata": {},
   "source": [
    "10. Write a program to check whether a year entered is leap or not."
   ]
  },
  {
   "cell_type": "code",
   "execution_count": null,
   "id": "1419f072-e893-4216-9a24-1d4cd0f38af8",
   "metadata": {},
   "outputs": [],
   "source": [
    "year = int(input(\"Enter a valid year to check leap year or not:\"))\n",
    "check = False\n",
    "if year % 400 == 0:\n",
    "    check = True\n",
    "else:\n",
    "    if year % 100 != 0 and year % 4 == 0:\n",
    "        check = True\n",
    "\n",
    "message = \"Its a leap year.\" if check == True else \"It is not a leap year.\"\n",
    "print(message)"
   ]
  },
  {
   "cell_type": "markdown",
   "id": "c4483d83-72b7-4542-84e2-3366c14e121c",
   "metadata": {},
   "source": [
    "11. Write a program to display “MDS” 10 times."
   ]
  },
  {
   "cell_type": "code",
   "execution_count": null,
   "id": "198e1c44-f6ec-49d8-b525-12a8f96bb98e",
   "metadata": {},
   "outputs": [],
   "source": [
    "#Q11\n",
    "\n",
    "# string = \"MDS\\n\"\n",
    "# print(string * 10)\n",
    "\n",
    "for i in range(10):\n",
    "    print(\"MDS\")"
   ]
  },
  {
   "cell_type": "markdown",
   "id": "5e7df9bc-9d98-4909-a048-042df5063c1e",
   "metadata": {},
   "source": [
    "12. Write a program to find sum and average of 10 numbers stored in a list."
   ]
  },
  {
   "cell_type": "code",
   "execution_count": null,
   "id": "96116c56-22dc-4f4f-838a-3516c56f7f08",
   "metadata": {},
   "outputs": [],
   "source": [
    "#Q12\n",
    "number_list = []\n",
    "print('Enter 10 numbers to store in the list each followed by enter key:')\n",
    "for i in range(10):\n",
    "    number = int(input(\"\"))\n",
    "    number_list.append(number)\n",
    "\n",
    "sum = 0\n",
    "for number in number_list:\n",
    "    sum += number\n",
    "print(f\"The sum of the numbers is: {sum}\")\n",
    "average = sum / 10\n",
    "print(f\"The average of the numbers is: {average}\")\n"
   ]
  },
  {
   "cell_type": "markdown",
   "id": "16c3a32c-4493-4bd8-b063-2c2b32428efd",
   "metadata": {},
   "source": [
    "13. Write a program to display prime numbers up to 100."
   ]
  },
  {
   "cell_type": "code",
   "execution_count": null,
   "id": "38d5b98b-9b4e-46a7-965d-8202463242d6",
   "metadata": {},
   "outputs": [],
   "source": [
    "#Q13\n",
    "prime_list = []\n",
    "for number in range(1, 101):\n",
    "    divided_by = []\n",
    "    for check_divisor in range(1, number+1):\n",
    "        if number % check_divisor == 0:\n",
    "            divided_by.append(check_divisor)\n",
    "    if len(divided_by) == 2:\n",
    "        prime_list.append(number)\n",
    "\n",
    "for prime_number in prime_list:\n",
    "    print(prime_number)"
   ]
  },
  {
   "cell_type": "markdown",
   "id": "9f4dc543-0243-4784-8014-776c0a190022",
   "metadata": {},
   "source": [
    "14. Write a program to find sum of digits of a number."
   ]
  },
  {
   "cell_type": "code",
   "execution_count": null,
   "id": "8e086d50-7513-4a1c-9885-4373c2db9efa",
   "metadata": {},
   "outputs": [],
   "source": [
    "#Q14\n",
    "number = int(input(\"Enter the number to find sum of digits: \"))\n",
    "sum = 0\n",
    "while True:\n",
    "    if number == 0:\n",
    "        break\n",
    "    sum += number % 10\n",
    "    number = number // 10\n",
    "\n",
    "print(f\"The sum of digits of the given number is: {sum}\")"
   ]
  },
  {
   "cell_type": "markdown",
   "id": "77a5894b-b48f-491f-868f-805d7d6c5689",
   "metadata": {},
   "source": [
    "15. Write a program to check whether a number is palindrome or not."
   ]
  },
  {
   "cell_type": "code",
   "execution_count": null,
   "id": "abcbdefc-35b1-4b71-a45d-8af627040e0b",
   "metadata": {},
   "outputs": [],
   "source": [
    "#Q15\n",
    "number = int(input(\"Enter the number to check if palindrome: \"))\n",
    "original_number = number\n",
    "reversed_number = 0\n",
    "while number > 0:\n",
    "        last_digit = number % 10\n",
    "        number = number // 10\n",
    "        reversed_number = (reversed_number * 10) + last_digit\n",
    "print(\"Palindrome Number\" if reversed_number == original_number else \"Not a Palindrome Number\")"
   ]
  },
  {
   "cell_type": "markdown",
   "id": "d97d2561-4d28-452e-80fe-adacfd800c6c",
   "metadata": {},
   "source": [
    "16. Write a program to check if a number is Armstrong Number or not."
   ]
  },
  {
   "cell_type": "code",
   "execution_count": null,
   "id": "a0a124ee-a8d2-4391-82ef-872176d4f72a",
   "metadata": {},
   "outputs": [],
   "source": [
    "#Q16\n",
    "number =input(\"Enter the number to check if Armstrong.\")\n",
    "length_of_number = len(number)\n",
    "original_number = int(number)\n",
    "resulting_number = 0\n",
    "\n",
    "for i in range(length_of_number):\n",
    "    last_digit = int(number) % 10\n",
    "    resulting_number += last_digit ** length_of_number\n",
    "    number = int(number) // 10\n",
    "\n",
    "print(\"Armstrong Number\" if resulting_number == original_number else \"Not a Armstrong Number\")  "
   ]
  },
  {
   "cell_type": "markdown",
   "id": "33b6f870-1476-47f4-ba7e-173cf6a04d81",
   "metadata": {},
   "source": [
    "17. Write a program to count number of vowels in a string."
   ]
  },
  {
   "cell_type": "code",
   "execution_count": null,
   "id": "89692c38-8af8-4dc2-862a-cc4225ad1dc7",
   "metadata": {},
   "outputs": [],
   "source": [
    "#Q17\n",
    "all_vowels = \"aeiouAEIOU\"\n",
    "string = input(\"Enter the string whose vowels are to be counted: \")\n",
    "vowels_count = 0\n",
    "for character in string:\n",
    "    if character in all_vowels:\n",
    "        vowels_count += 1\n",
    "\n",
    "print(f\"The total number of vowels in the string is: {vowels_count}\")\n"
   ]
  },
  {
   "cell_type": "markdown",
   "id": "4e1bc056-264b-4f0a-9ae2-40201fbe85d7",
   "metadata": {},
   "source": [
    "18. Write a program to find smallest and largest number among 10 numbers stored in a list."
   ]
  },
  {
   "cell_type": "code",
   "execution_count": null,
   "id": "cc743612-926f-4e49-94b4-3c481e0b37d3",
   "metadata": {},
   "outputs": [],
   "source": [
    "#Q18\n",
    "number_list = []\n",
    "print('Enter 10 numbers to store in the list each followed by enter key:')\n",
    "for i in range(10):\n",
    "    number = int(input(\"\"))\n",
    "    number_list.append(number)\n",
    "smallest = None\n",
    "largest = None\n",
    "\n",
    "for number in number_list:\n",
    "    if smallest == None:\n",
    "        smallest = number\n",
    "    else:\n",
    "        if smallest > number:\n",
    "            smallest = number\n",
    "    if largest == None:\n",
    "        largest = number\n",
    "    else:\n",
    "        if largest < number:\n",
    "            largest = number\n",
    "print(f\"The list is: {number_list}\")\n",
    "print(f\"The smallest in the list is: {smallest}\")    \n",
    "print(f\"The largest in the list is: {largest}\")    "
   ]
  },
  {
   "cell_type": "markdown",
   "id": "76eab916-f79d-4564-b453-e5adeae5c12e",
   "metadata": {},
   "source": [
    "19. Write a program to count even numbers and odd numbers stored in a list."
   ]
  },
  {
   "cell_type": "code",
   "execution_count": null,
   "id": "b4a3d7a9-a8df-48b4-9669-62c3512863ef",
   "metadata": {},
   "outputs": [],
   "source": [
    "#Q19\n",
    "number_list = []\n",
    "print('Enter 10 numbers to store in the list each followed by enter key:')\n",
    "for i in range(10):\n",
    "    number = int(input(\"\"))\n",
    "    number_list.append(number)\n",
    "\n",
    "even_count = 0\n",
    "odd_count = 0\n",
    "for number in number_list:\n",
    "    if number % 2 == 0:\n",
    "        even_count += 1\n",
    "    else:\n",
    "        odd_count += 1\n",
    "print(f\"The list is: {number_list}\")\n",
    "print(f\"The number of evens in the list is: {even_count}\")\n",
    "print(f\"The number of odds in the list is: {odd_count}\")\n",
    "    "
   ]
  },
  {
   "cell_type": "markdown",
   "id": "8eda77e1-f6cd-4503-8501-7217c51aefc6",
   "metadata": {},
   "source": [
    "20. Write a program to find sum of two matrices\n",
    "21. Write a program to find product of two matrices."
   ]
  },
  {
   "cell_type": "code",
   "execution_count": null,
   "id": "918bab01-b493-47e2-a7d9-d66e672646ec",
   "metadata": {},
   "outputs": [],
   "source": [
    "#Q20 and Q21\n",
    "class MatrixOperations:\n",
    "    def determine_operations(self):\n",
    "        print(\"Input number of rows and columns for matrix operation: \")\n",
    "        print(\"-------------------------------------------------------\")\n",
    "        r1, c1, r2, c2 = int(input(\"Row 1:\")), int(input(\"Column 1:\")), int(input(\"Row 2:\")), int(input(\"Column 2:\"))\n",
    "        print(\"For such matrices layout, following operation(s) are possible:\")\n",
    "\n",
    "        addition = False\n",
    "        multiplication = False\n",
    "        if r1 == r2 and c1 == c2:\n",
    "            print(\"- Addition\")\n",
    "            addition = True\n",
    "        if c1 == r2:\n",
    "            print(\"- Multiplication\")\n",
    "            multiplication = True\n",
    "\n",
    "        if addition == True:\n",
    "            choice = input(\"Enter the operation choice: 'm' for multiply and 'a' for addition: \")\n",
    "            if choice == \"a\":\n",
    "                self.take_matrix_elements(\"a\", r1, c1, r2, c2)\n",
    "            else:\n",
    "                self.take_matrix_elements(\"m\", r1, c1, r2, c2)\n",
    "                \n",
    "        elif multiplication == True:\n",
    "            self.take_matrix_elements(\"m\", r1, c1, r2, c2)\n",
    "\n",
    "        else:\n",
    "            print(\"No available operations for such matrix layouts.\")\n",
    "\n",
    "    \n",
    "\n",
    "    def take_matrix_elements(self, choice, r1, c1, r2, c2):\n",
    "        matrix_1 = []\n",
    "        matrix_2 = []\n",
    "        \n",
    "        print(\"Enter the elements row-by-row for Matrix 1: \")\n",
    "        for _ in range(r1):\n",
    "            row = []\n",
    "            for _ in range(c1):\n",
    "                element = int(input(\"\"))\n",
    "                row.append(element)\n",
    "            matrix_1.append(row)\n",
    "        print(\"Matrix 1:\", matrix_1)\n",
    "\n",
    "        print(\"Enter the elements row-by-row for Matrix 2: \")\n",
    "        \n",
    "        for _ in range(r2):\n",
    "            row = []\n",
    "            for _ in range(c2):\n",
    "                element = int(input(\"\"))\n",
    "                row.append(element)\n",
    "            matrix_2.append(row)\n",
    "        print(\"Matrix 2:\", matrix_2)\n",
    "\n",
    "        if choice == \"m\":\n",
    "            self.matrix_multiplication(matrix_1, matrix_2)\n",
    "        if choice == \"a\":\n",
    "            self.matrix_addition(matrix_1, matrix_2)\n",
    "\n",
    "    \n",
    "    def matrix_multiplication(self, matrix_1, matrix_2):\n",
    "        pro_matrix = [[0 for _ in range(len(matrix_2[0])) ]for _ in range(len(matrix_1))]\n",
    "        for i in range(len(matrix_1)):\n",
    "            for j in range(len(matrix_2[0])):\n",
    "                for k in range(len(matrix_1[0])):\n",
    "                    pro_matrix[i][j] += matrix_1[i][k] * matrix_2[k][j]\n",
    "\n",
    "        print(f\"The required output from the multiplication is:\")\n",
    "        print(pro_matrix)\n",
    "\n",
    "    \n",
    "    def matrix_addition(self, matrix_1, matrix_2):\n",
    "        summed_matrix = []\n",
    "        for i in range(len(matrix_1)):\n",
    "            summed_row = []\n",
    "            for j in range(len(matrix_1[0])):\n",
    "                summed_row.append(matrix_1[i][j] + matrix_2[i][j])\n",
    "            summed_matrix.append(summed_row)\n",
    "\n",
    "        print(f\"The required output from the addition is:\")\n",
    "        print(summed_matrix)\n",
    "        \n",
    "             \n",
    "    def start_operations(self):\n",
    "        self.determine_operations()\n",
    "              \n",
    "\n",
    "operation = MatrixOperations()\n",
    "operation.start_operations()"
   ]
  },
  {
   "cell_type": "code",
   "execution_count": null,
   "id": "d47813c0-9452-4e33-a717-f64bad13a183",
   "metadata": {},
   "outputs": [],
   "source": []
  },
  {
   "cell_type": "markdown",
   "id": "cf199887-5b69-4cd4-8ed4-9b635db1e982",
   "metadata": {},
   "source": [
    "22. Write a program using list comprehension to find sum of only even numbers."
   ]
  },
  {
   "cell_type": "code",
   "execution_count": null,
   "id": "0cfe26b6-bc0c-4577-b930-03e837f7ba0f",
   "metadata": {},
   "outputs": [],
   "source": [
    "#Q22\n",
    "number_list = []\n",
    "print('Enter 10 numbers to store in the list each followed by enter key:')\n",
    "for i in range(10):\n",
    "    number = int(input(\"\"))\n",
    "    number_list.append(number)\n",
    "sum_of_evens = sum([number for number in number_list if number%2==0])\n",
    "print(\"The sum of all the even numbers in the list is:\",sum_of_evens)"
   ]
  },
  {
   "cell_type": "markdown",
   "id": "214e7037-9f57-4101-8237-528c38c80fc5",
   "metadata": {},
   "source": [
    "23. Write a program using function with return type to find sum of two numbers."
   ]
  },
  {
   "cell_type": "code",
   "execution_count": null,
   "id": "73eab6b5-3e19-4cbd-8d25-c90d733f958b",
   "metadata": {},
   "outputs": [],
   "source": [
    "#Q23\n",
    "\n",
    "def sum(a, b)->int:\n",
    "    return(a+b)\n",
    "\n",
    "print(\"Enter two numbers to find the sum: \")\n",
    "num1, num2 = int(input(\"\")), int(input(\"\"))\n",
    "print(\"The sum is:\", sum(num1, num2))\n",
    "                                 \n",
    "\n",
    "                                 "
   ]
  },
  {
   "cell_type": "code",
   "execution_count": null,
   "id": "cc5c0bca-9461-4608-b531-c583b4fed0fa",
   "metadata": {},
   "outputs": [],
   "source": [
    "24. Write a program using recursive function to find factorial of a number."
   ]
  },
  {
   "cell_type": "code",
   "execution_count": null,
   "id": "a9afdce8-c9e0-4c73-9c77-181da9838ee1",
   "metadata": {},
   "outputs": [],
   "source": [
    "#Q24\n",
    "\n",
    "def factorial(number):\n",
    "    if number == 1:\n",
    "        return 1\n",
    "    return number * factorial(number-1)\n",
    "\n",
    "number = int(input(\"Enter the number whose factorial is to be calculated: \"))\n",
    "factorial_number = factorial(number)\n",
    "print(f\"The factorial of {number} is: {factorial_number}\")"
   ]
  },
  {
   "cell_type": "markdown",
   "id": "0c6d3602-55de-41a2-ac9d-0b20b5ee548d",
   "metadata": {},
   "source": [
    "25. Write a program using recursive function to find nth Fibonacci number."
   ]
  },
  {
   "cell_type": "code",
   "execution_count": null,
   "id": "3ac5b542-daf3-4e54-9369-4b831ef5d077",
   "metadata": {},
   "outputs": [],
   "source": [
    "#Q25\n",
    "def fabonacii_number(number):\n",
    "    if number == 0:\n",
    "        return 0\n",
    "    elif number == 1:\n",
    "        return 1\n",
    "    else:\n",
    "        return fabonacii_number(number-1) + fabonacii_number(number-2)\n",
    "        \n",
    "number = int(input(\"Enter the position of fibonacii number: \"))\n",
    "result = fabonacii_number(number)\n",
    "print(f\"The {number}rd fabobacii number is: {result}\")"
   ]
  },
  {
   "cell_type": "markdown",
   "id": "d99be5f6-3716-4a09-8c7f-ddb935c725a1",
   "metadata": {},
   "source": [
    "26. Create a class Rectangle containing instance variables length and breadth. The class also contains two instance methods area() and perimeter() to find area and perimeter of rectangles respectively. Use this class to find area and perimeter of two different rectangles."
   ]
  },
  {
   "cell_type": "code",
   "execution_count": null,
   "id": "1222d4c7-1763-4770-8f74-7d1e4295a30b",
   "metadata": {},
   "outputs": [],
   "source": [
    "class Rectangle:\n",
    "    def __init__(self, length, breadth):\n",
    "        self.length = length\n",
    "        self.breadth = breadth\n",
    "\n",
    "    def __str__(self):\n",
    "        return f\"The rectangle with length {self.length} and breadth {self.breadth}.\"\n",
    "\n",
    "    def area(self):\n",
    "        return self.length * self.breadth\n",
    "\n",
    "    def perimeter(self):\n",
    "        return 2*(self.length + self.breadth)\n",
    "\n",
    "\n",
    "rectangle1 = Rectangle(2, 4)\n",
    "rectangle2 =Rectangle(4, 6)\n",
    "print(\"The area of rectangle1 is:\", rectangle1.area())\n",
    "print(\"The perimeter of rectangle1 is:\", rectangle1.perimeter())\n",
    "print(\"The area of rectangle2 is:\", rectangle2.area())\n",
    "print(\"The perimeter of rectangle2 is:\", rectangle2.perimeter())\n",
    "        "
   ]
  },
  {
   "cell_type": "markdown",
   "id": "0f5c5864-dd9a-4b71-83d1-5df4c846679b",
   "metadata": {},
   "source": [
    "27. Create a class Circle containing an instance variable radius. The class also contains two\n",
    "instance methods area() and circumference() to find area and circumference of circles\n",
    "respectively. Use this class to find area and circumference of two different circles. Use PI as a\n",
    "class variable."
   ]
  },
  {
   "cell_type": "code",
   "execution_count": null,
   "id": "899025cf-c4ee-4540-8917-34dabd09f02b",
   "metadata": {},
   "outputs": [],
   "source": [
    "class Circle:\n",
    "    PI = 3.14159\n",
    "    def __init__(self, radius):\n",
    "        self.radius = radius\n",
    "\n",
    "    def area(self):\n",
    "        return Circle.PI * (self.radius ** 2)\n",
    "\n",
    "    def circumference(self):\n",
    "        return 2 * Circle.PI * self.radius\n",
    "\n",
    "circle1 = Circle(5)\n",
    "circle2 = Circle(10)\n",
    "\n",
    "print(\"The area of circle1 is:\", circle1.area())\n",
    "print(\"The circumference of circle1 is:\", circle1.circumference())\n",
    "print(\"The area of circle2 is:\", circle2.area())\n",
    "print(\"The circumference of circle2 is:\", circle2.circumference())\n",
    "\n",
    "    "
   ]
  },
  {
   "cell_type": "markdown",
   "id": "243e8cca-0b35-46dc-8afa-3481b5b2d9dc",
   "metadata": {},
   "source": [
    "28. Create a class Box with instance variables width, height and depth. The class also contains\n",
    "instance methods volume() and surface_area() to find volume and surface area of boxes\n",
    "respectively. Use this class to find volume and surface area of two different boxes."
   ]
  },
  {
   "cell_type": "code",
   "execution_count": null,
   "id": "23aa58fe-a483-45ab-9229-83a03b3113cc",
   "metadata": {},
   "outputs": [],
   "source": [
    "class Box:\n",
    "    def __init__(self, width, height, depth):\n",
    "        self.width = width\n",
    "        self.height = height\n",
    "        self.depth = depth\n",
    "\n",
    "    def volume(self):\n",
    "        return self.width * self.height * self.depth\n",
    "\n",
    "    def surface_area(self):\n",
    "        return 2 * ((self.width * self.height) + (self.height * self.depth) + (self.depth * self.width))\n",
    "\n",
    "\n",
    "box1 = Box(2, 3, 4)\n",
    "box2 = Box(4, 5, 6)\n",
    "\n",
    "print(\"The volume of the box1 is:\", box1.volume())\n",
    "print(\"The surface area of the box1 is:\", box1.surface_area())\n",
    "print(\"The volume of the box2 is:\", box2.volume())\n",
    "print(\"The surface area of the box2 is:\", box2.surface_area())\n"
   ]
  },
  {
   "cell_type": "markdown",
   "id": "c07d0f27-1c9a-4ca0-b28a-a0f58cddb374",
   "metadata": {},
   "source": [
    "29. Create a class Time with three instance variables hours, minutes, and seconds. Add instance\n",
    "methods display() to display the time in hh:mm:ss format and add() to add two time objects.\n",
    "Use this class to add and display two different time objects."
   ]
  },
  {
   "cell_type": "code",
   "execution_count": null,
   "id": "33c1c8c1-f104-4133-8a84-08ccc851b4a2",
   "metadata": {},
   "outputs": [],
   "source": [
    "#Q29\n",
    "\n",
    "class Time:\n",
    "    def __init__(self, hours=0, minutes=0, seconds=0):\n",
    "        self.hours = hours\n",
    "        self.minutes = minutes\n",
    "        self.seconds = seconds\n",
    "        self.normalize_time()\n",
    "\n",
    "    def normalize_time(self):\n",
    "        if self.seconds >= 60:\n",
    "            self.minutes += self.seconds // 60\n",
    "            self.seconds %= 60\n",
    "        if self.minutes >= 60:\n",
    "            self.hours += self.minutes // 60\n",
    "            self.minutes %= 60\n",
    "        self.hours %= 24 \n",
    "\n",
    "    def display(self):\n",
    "        return f\"{self.hours:02}:{self.minutes:02}:{self.seconds:02}\"\n",
    "\n",
    "    def add(self, other):\n",
    "        total_hours = self.hours + other.hours\n",
    "        total_minutes = self.minutes + other.minutes\n",
    "        total_seconds = self.seconds + other.seconds\n",
    "        \n",
    "        return Time(total_hours, total_minutes, total_seconds)\n",
    "\n",
    "\n",
    "if __name__ == \"__main__\":\n",
    "    time1 = Time(14, 30, 45)  # 14:30:45\n",
    "    time2 = Time(3, 45, 30)    # 03:45:30\n",
    "\n",
    "    total_time = time1.add(time2)\n",
    "\n",
    "    print(f\"Time 1: {time1.display()}\")\n",
    "    print(f\"Time 2: {time2.display()}\")\n",
    "    print(f\"Total Time (after addition): {total_time.display()}\")\n",
    "\n",
    "\n",
    "\n",
    "from datetime import timedelta\n",
    "class Time:\n",
    "    def __init__(self, hours, minutes, seconds):\n",
    "        self.hours = hours\n",
    "        self.minutes = minutes\n",
    "        self.seconds = seconds\n",
    "\n",
    "    def display(self):\n",
    "        return timedelta(hours=self.hours, minutes=self.minutes, seconds=self.seconds)\n",
    "\n",
    "    def add(self, another_time):\n",
    "        added_time = self.display() + another_time.display()\n",
    "        return added_time\n",
    "\n",
    "\n",
    "time1 = Time(27, 17, 19)\n",
    "time2 = Time(2, 28, 0)\n",
    "print(\"The time in requested format:\",time1.display())\n",
    "print(\"The result addig two times is:\", time1.add(time2))\n",
    "        "
   ]
  },
  {
   "cell_type": "markdown",
   "id": "c250b0bb-12b0-4fc7-9141-de62e0016eb0",
   "metadata": {},
   "source": [
    "30. Create a class Distance containing instance variables feet and inches. The class also contains\n",
    "instance methods add() and compare() to add and compare two distance objects respectively.\n",
    "Use this class to create two different distance objects and add and compare these two distance\n",
    "objects."
   ]
  },
  {
   "cell_type": "code",
   "execution_count": null,
   "id": "eebc0452-ebda-4863-aa81-30da82ba2d11",
   "metadata": {},
   "outputs": [],
   "source": [
    "#Q30\n",
    "\n",
    "class Distance:\n",
    "    def __init__(self, feet, inches):\n",
    "        self.feet = feet\n",
    "        self.inches = inches\n",
    "        self.total_length_feet = (feet * 12) + inches\n",
    "\n",
    "    def convert(self, distance):\n",
    "        feet = distance // 12\n",
    "        inches = distance % 12\n",
    "        return feet, inches\n",
    "\n",
    "    def add(self, another_distance):\n",
    "        added_distance = self.total_length_feet + another_distance.total_length_feet\n",
    "        feet, inches = self.convert(added_distance)\n",
    "        print(f\"The total distance is: {feet} feet and {inches} inches.\")\n",
    "\n",
    "    def compare(self, another_distance):\n",
    "        if self.total_length_feet == another_distance.total_length_feet:\n",
    "            print(\"Same length objects.\")\n",
    "        elif self.total_length_feet > another_distance.total_length_feet:\n",
    "            difference = self.total_length_feet - another_distance.total_length_feet\n",
    "            feet, inches = self.convert(difference)\n",
    "            print(f\"First length is greater than second by: {feet} feet and {inches} inches \")\n",
    "              \n",
    "        else:\n",
    "            difference = another_distance.total_length_feet - self.total_length_feet\n",
    "            feet, inches = self.convert(difference)\n",
    "            print(f\"Second length is greater than first by: {feet} feet and {inches} inches \")\n",
    "\n",
    "distance1 = Distance(5,3)\n",
    "distance2 = Distance(6,4)\n",
    "\n",
    "distance1.add(distance2)\n",
    "distance1.compare(distance2)\n",
    "        "
   ]
  },
  {
   "cell_type": "markdown",
   "id": "3da27e24-db9e-4148-b460-cf67826db370",
   "metadata": {},
   "source": [
    "31. Create a class Student with instance variables name, roll_number, and marks in five subjects.\n",
    "Add three instance methods in this class to calculate total(), percentage(), and division() of the\n",
    "marks obtained by the students. Use this class to find total marks obtained, percentage, and\n",
    "division of five students."
   ]
  },
  {
   "cell_type": "code",
   "execution_count": null,
   "id": "4d3c1659-0c18-4c89-8f5c-8c2bbbbb1b5e",
   "metadata": {},
   "outputs": [],
   "source": [
    "class Student:\n",
    "    def __init__(self, name, roll_number, marks):\n",
    "        self.name = name\n",
    "        self.roll_number = roll_number\n",
    "        self.marks = marks\n",
    "        \n",
    "    def __str__(self):\n",
    "        return f\"Name: {self.name} with Marks: {self.marks}\"\n",
    "\n",
    "    def total_marks(self):\n",
    "        total = sum(self.marks)\n",
    "        return total\n",
    "       \n",
    "\n",
    "    def percentage(self):\n",
    "        percentage = (self.total_marks()/500) * 100\n",
    "        return percentage\n",
    "        \n",
    "    def division(self):\n",
    "        if min(self.marks) > 40:\n",
    "            percentage = self.percentage()\n",
    "            if percentage < 50:\n",
    "                return \"Third Division\"\n",
    "            elif percentage < 60:\n",
    "                return \"Second Divisiion\"\n",
    "            elif percentage < 75:\n",
    "                return \"First Division\"\n",
    "            else:\n",
    "                return \"Distinction\" \n",
    "            \n",
    "        else:\n",
    "            return \"Failed\"\n",
    "            \n",
    "\n",
    "\n",
    "student1 = Student(\"Dinesh Gautam\", 1, [70, 80, 90, 67, 90])\n",
    "student2 = Student(\"Ritika Gautam\", 1, [70, 45, 90, 67, 100])\n",
    "student3 = Student(\"Rakesh Ojha\", 1, [70, 54, 90, 12, 45])\n",
    "student4 = Student(\"Samman Pokhrel\", 1, [99, 80, 56, 67, 90])\n",
    "student5 = Student(\"Avishekh Khatri\", 1, [45, 80, 63, 67, 81])\n",
    "student6 = Student(\"Goodness Dahal\", 1, [39, 80, 89, 67, 98])\n",
    "\n",
    "all_students = [student1, student2, student3, student4, student5, student6]\n",
    "\n",
    "for student in all_students:  \n",
    "    print(student)\n",
    "    print(\"----------------------------------------------------\")\n",
    "    print(\"Total marks:\", student.total_marks(), \"out of 500\")\n",
    "    print(\"Percentage:\", student.percentage())\n",
    "    print(\"Division:\", student.division())\n",
    "    print()\n"
   ]
  },
  {
   "cell_type": "markdown",
   "id": "cf1e3ec0-90a9-4110-b24e-4bc1362e2d14",
   "metadata": {},
   "source": [
    "32. Create a parent class Bonus with instance variables sales_id and sales_amount. Add get_bonus\n",
    "method that calculates a salesperson’s bonus using the foumula bonus = sales * 0.05. Create a\n",
    "child class named PremiumBonus from Bonus. The child class’s get_premium_bonus()\n",
    "method should calculate the bonus using the formula bonus = sales * 0.05 + (sales – 2500) *\n",
    "0.01. Now, create an object of PremiumBonus class and use this object to find both bonus and\n",
    "premium bonus."
   ]
  },
  {
   "cell_type": "code",
   "execution_count": null,
   "id": "5cc6829d-cfff-46d0-9b52-032ef4aafbdb",
   "metadata": {},
   "outputs": [],
   "source": [
    "class Bonus:\n",
    "    def __init__(self, sales_id, sales_amount):\n",
    "        self.sales_id = sales_id\n",
    "        self.sales_amount = sales_amount\n",
    "\n",
    "    def get_bonus(self):\n",
    "        normal_bonus = self.sales_amount * 0.05\n",
    "        return normal_bonus\n",
    "\n",
    "class PremiumBonus(Bonus):\n",
    "    def __init__(self, sales_id, sales_amount):\n",
    "        super().__init__(sales_id, sales_amount)\n",
    "    def premium_bonus(self):\n",
    "        premium_bonus = self.sales_amount * 0.05 + (self.sales_amount - 2500) * 0.01\n",
    "        return premium_bonus\n",
    "\n",
    "employee1 = PremiumBonus(1, 50000)\n",
    "print(\"The normal bonus of the employee is:\",employee1.get_bonus())\n",
    "print(\"The premium bonus of the employee would be:\",employee1.premium_bonus())\n"
   ]
  },
  {
   "cell_type": "markdown",
   "id": "5b73665f-db8c-4f5f-a9ca-5248c026c37d",
   "metadata": {},
   "source": [
    "30. Create a class Distance containing instance variables feet and inches. The class also contains\n",
    "instance methods add() and compare() to add and compare two distance objects respectively.\n",
    "Use this class to create two different distance objects and add and compare these two distance\n",
    "objects.\n",
    "33. Overload + operator in Q.N.30 to add two distance objects."
   ]
  },
  {
   "cell_type": "code",
   "execution_count": null,
   "id": "5decc877-30ad-44a6-9ee3-9dd9c3352668",
   "metadata": {},
   "outputs": [],
   "source": [
    "class Distance:\n",
    "    def __init__(self, feet, inches):\n",
    "        self.feet = feet\n",
    "        self.inches = inches\n",
    "        self.total_length_feet = (feet * 12) + inches\n",
    "\n",
    "    def __str__(self):\n",
    "        return f\"{self.feet} feet and {self.inches} inches.\"\n",
    "\n",
    "    #overloading the + operator\n",
    "    def __add__(self, another):\n",
    "        return Distance(self.feet + another.feet, self.inches + another.inches)\n",
    "\n",
    "    def convert(self, distance):\n",
    "        feet = distance // 12\n",
    "        inches = distance % 12\n",
    "        return feet, inches\n",
    "\n",
    "    def add(self, another_distance):\n",
    "        added_distance = self.total_length_feet + another_distance.total_length_feet\n",
    "        feet, inches = self.convert(added_distance)\n",
    "        print(f\"The total distance is: {feet} feet and {inches} inches.\")\n",
    "\n",
    "    def compare(self, another_distance):\n",
    "        if self.total_length_feet == another_distance.total_length_feet:\n",
    "            print(\"Same length objects.\")\n",
    "        elif self.total_length_feet > another_distance.total_length_feet:\n",
    "            difference = self.total_length_feet - another_distance.total_length_feet\n",
    "            feet, inches = self.convert(difference)\n",
    "            print(f\"First length is greater than second by: {feet} feet and {inches} inches \")\n",
    "              \n",
    "        else:\n",
    "            difference = another_distance.total_length_feet - self.total_length_feet\n",
    "            feet, inches = self.convert(difference)\n",
    "            print(f\"Second length is greater than first by: {feet} feet and {inches} inches \")\n",
    "\n",
    "distance1 = Distance(5,3)\n",
    "distance2 = Distance(6,4)\n",
    "# Adding two distances using the overloaded + operator\n",
    "distance3 = distance1 + distance2\n",
    "\n",
    "distance1.add(distance2)\n",
    "distance1.compare(distance2)\n",
    "print(\"This is the Distance createed using overloaded + operator-->\", distance3)"
   ]
  },
  {
   "cell_type": "markdown",
   "id": "5f7c0cab-9235-4fd7-bcf4-4515a0d480c4",
   "metadata": {},
   "source": [
    "34. Write a program that reads a text file and displays the following:\n",
    "a. Number of characters\n",
    "b. Number of vowels\n",
    "c. Number of consonants\n",
    "d. Number of words\n",
    "e. Number of lines"
   ]
  },
  {
   "cell_type": "code",
   "execution_count": null,
   "id": "1cc7ee3a-d974-46da-8bbe-a93715c2043c",
   "metadata": {},
   "outputs": [],
   "source": [
    "import string\n",
    "\n",
    "\n",
    "def analyze_text(the_file):\n",
    "    all_letters = string.ascii_letters\n",
    "    vowel_letters = \"aeiouAEIOU\"\n",
    "    character_count = 0\n",
    "    vowel_count = 0\n",
    "    consonent_count = 0\n",
    "    line_count = 0\n",
    "    words_count = 0\n",
    "    \n",
    "    with open(the_file,\"r\") as file:\n",
    "        for line in file:\n",
    "            line_count += 1\n",
    "            character_count = len(line)\n",
    "            words_count += len(line.split())\n",
    "            for character in line:\n",
    "                if character in vowel_letters:\n",
    "                    vowel_count += 1\n",
    "                if character in all_letters and character not in vowel_letters:\n",
    "                    consonent_count += 1\n",
    "    print(\"The total number of characters is:\",character_count)\n",
    "    print(\"The total number of vowel-characters is:\", vowel_count)\n",
    "    print(\"The total number of words is:\", words_count)\n",
    "    print(\"The toatl number of lines is:\", line_count)\n",
    "\n",
    "\n",
    "file_path = \"Assignment_04_Q34_35._36.txt\"\n",
    "analyze_text(file_path)\n",
    "\n"
   ]
  },
  {
   "cell_type": "markdown",
   "id": "88565d7b-c39b-4daa-88de-47859193b754",
   "metadata": {},
   "source": [
    "35. Write a program that reads a text file and writes its output in another text file. The output\n",
    "should contain\n",
    "a. Number of letters\n",
    "b. Number of digits, and\n",
    "c. Number of other characters"
   ]
  },
  {
   "cell_type": "code",
   "execution_count": null,
   "id": "51e35749-ee98-456c-bff7-4b8c3a0206c5",
   "metadata": {},
   "outputs": [],
   "source": [
    "#Q35\n",
    "\n",
    "import string\n",
    "\n",
    "\n",
    "def analyze_and_write(the_file):\n",
    "    all_digits = string.digits\n",
    "    all_characters = string.ascii_letters\n",
    "\n",
    "    letters_count = 0\n",
    "    digits_count = 0\n",
    "    other_count = 0\n",
    "\n",
    "    with open(the_file, \"r\") as reading_file, open(\"Assignment_04_Q35_Ans.txt\", \"w\") as writing_file:\n",
    "        for line in reading_file:\n",
    "            for character in line:\n",
    "                if character in all_digits:\n",
    "                    digits_count += 1\n",
    "                elif character in all_characters:\n",
    "                    letters_count += 1 \n",
    "                else:\n",
    "                    other_count += 1\n",
    "        writing_file.write(f\"The analysis summary:\\n-------------------------\\n\")\n",
    "        writing_file.write(f\"Number of letters: {letters_count}\\nNumber of digits: {digits_count}\\nNumber of other characters: {other_count}\")\n",
    "        print(\"Contents written in the file successfully.\")                    \n",
    "        \n",
    "\n",
    "file_path = \"Assignment_04_Q34_35._36.txt\"\n",
    "analyze_and_write(file_path)"
   ]
  },
  {
   "cell_type": "markdown",
   "id": "ff844fcc-6fcd-4c37-8016-861c22408366",
   "metadata": {},
   "source": [
    "36. Write a program that reads the file containing texts and counts the number of whitespaces."
   ]
  },
  {
   "cell_type": "code",
   "execution_count": 8,
   "id": "6c6b6963-0924-45b6-b73e-4c6e8b76bc01",
   "metadata": {},
   "outputs": [
    {
     "name": "stdout",
     "output_type": "stream",
     "text": [
      "The number of whitespaces in the text is: 28\n"
     ]
    }
   ],
   "source": [
    "#Q36\n",
    "\n",
    "def analyze_text(the_file):\n",
    "    whitespace_characters = ['\\n', '\\t', ' ', '\\r', '\\f'] \n",
    "    whitespace_count = 0\n",
    "    with open(the_file, \"r\") as file:\n",
    "        for line in file:\n",
    "            for character in line:\n",
    "                if character in whitespace_characters:\n",
    "                    whitespace_count += 1\n",
    "\n",
    "        print(f\"The number of whitespaces in the text is: {whitespace_count}\")\n",
    "\n",
    "file_location = \"Assignment_04_Q34_35._36.txt\"\n",
    "analyze_text(file_location)"
   ]
  },
  {
   "cell_type": "markdown",
   "id": "6502addc-c79b-4f7b-a7a2-7908184cc19f",
   "metadata": {},
   "source": [
    "37. Write a program to find sum and average of numbers stored in a file. Create a separate file to\n",
    "write output."
   ]
  },
  {
   "cell_type": "code",
   "execution_count": 19,
   "id": "9d9414f3-190d-4098-b37a-80b3eca2fc1e",
   "metadata": {},
   "outputs": [
    {
     "name": "stdout",
     "output_type": "stream",
     "text": [
      "File written success.\n"
     ]
    }
   ],
   "source": [
    "#Q37\n",
    "\n",
    "def analyze_numbers(the_file):\n",
    "    with open(the_file, \"r\") as reading_file, open(\"Assignment_04_Q37_Ans.txt\", \"w\") as writing_file:\n",
    "        string_number_list = reading_file.read().split(\"\\n\")\n",
    "        int_number_list = [int(number) for number in string_number_list]\n",
    "        sum_of_numbers = sum(int_number_list)\n",
    "        average_of_numbers = sum_of_numbers / len(int_number_list)\n",
    "        \n",
    "        writing_file.write(f\"Results of Numbers analysis:\\n----------------------------\\n\")\n",
    "        writing_file.write(f\"Sum: {sum_of_numbers}\\nAverage: {average_of_numbers}\")\n",
    "        print(\"File written success.\")\n",
    "        \n",
    "        \n",
    "file_location = \"Assignment_04_Q37.txt\"\n",
    "analyze_numbers(file_location)"
   ]
  },
  {
   "cell_type": "code",
   "execution_count": null,
   "id": "2c51fb28-64d9-4252-aa2c-1c3e67591eb2",
   "metadata": {},
   "outputs": [],
   "source": []
  }
 ],
 "metadata": {
  "kernelspec": {
   "display_name": "Python 3 (ipykernel)",
   "language": "python",
   "name": "python3"
  },
  "language_info": {
   "codemirror_mode": {
    "name": "ipython",
    "version": 3
   },
   "file_extension": ".py",
   "mimetype": "text/x-python",
   "name": "python",
   "nbconvert_exporter": "python",
   "pygments_lexer": "ipython3",
   "version": "3.12.5"
  }
 },
 "nbformat": 4,
 "nbformat_minor": 5
}
