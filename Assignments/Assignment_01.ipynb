{
 "cells": [
  {
   "cell_type": "markdown",
   "id": "a843e540-e34e-4f40-bf7f-6749e6c84d01",
   "metadata": {
    "panel-layout": {
     "height": 801,
     "visible": true,
     "width": 100
    }
   },
   "source": [
    "<div style=\"text-align: center;\">\n",
    "    <img src=\"https://www.softwaretestinghelp.com/wp-content/qa/uploads/2020/11/Python-Lists.png\" style=\"width: 70%; height: auto; max-height: 40vw; border: 1px solid skyblue;\">\n",
    "</div>\n",
    "<br>\n",
    "<div style=\"text-align: left; margin-right: 5%;\">\n",
    "    <p style=\"color: blue\">Prepared by: Dinesh Gautam</p>\n",
    "    <p style=\"color: blue\">Date: September 22, 2024</script></p>\n",
    "</div>\n",
    "<div><hr style=\"border: 1px solid black; width: 100%; margin: 5px 0;\"><br><br></div>"
   ]
  },
  {
   "cell_type": "markdown",
   "id": "84f86fde-d45d-42b0-8be1-e2edaa8e21c6",
   "metadata": {
    "panel-layout": {
     "height": 96.15625,
     "visible": true,
     "width": 100
    }
   },
   "source": [
    "# Python List\n",
    "<hr style=\"border: 2px solid rgba(0, 0, 0, 0.1); width: 100%; margin: 20px auto;\">"
   ]
  },
  {
   "cell_type": "markdown",
   "id": "fe328803-f246-40e9-8cf7-a68b50699707",
   "metadata": {
    "panel-layout": {
     "height": 129.4375,
     "visible": true,
     "width": 100
    }
   },
   "source": [
    "\n",
    "<div>\n",
    "A Python list is an ordered, mutable collection of items that can store a variety of data types, including integers, strings, and other lists. Lists allow for dynamic resizing, meaning elements can be added or removed after the list is created.\n",
    "<h3>Key characteristics of Python lists:</h3>\n",
    "<ul>\n",
    "    <li>Ordered: Elements have a defined order, and the order will not change unless explicitly modified.</li>\n",
    "    <li>Mutable: Lists can be changed (elements can be added, removed, or modified).</li>\n",
    "    <li>Heterogeneous: A list can contain items of different data types (e.g., integers, strings, floats).</li>\n",
    "</ul>\n",
    "</div>"
   ]
  },
  {
   "cell_type": "markdown",
   "id": "8c930972-af19-4e26-aea2-accdd324d547",
   "metadata": {
    "panel-layout": {
     "height": 95.296875,
     "visible": true,
     "width": 100
    }
   },
   "source": [
    "<h3>Creating Lists</h3>\n",
    "<ul>\n",
    "    <li> Using brackets '[ ]'</li>\n",
    "    <li>Using 'list()' constructor</li>\n",
    "</ul>"
   ]
  },
  {
   "cell_type": "code",
   "execution_count": 17,
   "id": "aeaaa910-9d2f-40f6-9400-3367847215e4",
   "metadata": {
    "panel-layout": {
     "height": 0,
     "visible": true,
     "width": 100
    }
   },
   "outputs": [
    {
     "name": "stdout",
     "output_type": "stream",
     "text": [
      "This list was created using \"[]\" and the list is: [1, 2, 3, 4]\n",
      "This list was created using list constructor and the list is: [5, 6, 7, 8]\n"
     ]
    }
   ],
   "source": [
    "list1 = [1, 2, 3, 4] #creating list using '[ ]'\n",
    "list2 = list((5, 6, 7, 8)) #creting list using 'list()' constructor\n",
    "print(f'This list was created using \"[]\" and the list is: {list1}')\n",
    "print(f\"This list was created using list constructor and the list is: {list2}\")"
   ]
  },
  {
   "cell_type": "markdown",
   "id": "b8f89097-5e25-4d02-89e6-bfa9af36cf42",
   "metadata": {
    "panel-layout": {
     "height": 61.03125,
     "visible": true,
     "width": 100
    }
   },
   "source": [
    "<br>\n",
    "<h3>Accessing List Elements - Using Indexing technique</h3>\n",
    "<p>List indexing is a way to access elements from a list using their positions. Lists in many programming languages, including Python, are zero-indexed, meaning the first element is accessed with index 0, the second with index 1, and so on. Also there exists negative indexing which starts from -1 for the last element, -2 for the second-to-last, and so on.\n",
    "</p>"
   ]
  },
  {
   "cell_type": "code",
   "execution_count": 19,
   "id": "8f93a334-3a65-4087-b023-ba09fde19443",
   "metadata": {
    "panel-layout": {
     "height": 0,
     "visible": true,
     "width": 100
    }
   },
   "outputs": [
    {
     "name": "stdout",
     "output_type": "stream",
     "text": [
      "10\n",
      "50\n",
      "[20, 30, 40]\n"
     ]
    }
   ],
   "source": [
    "list = [10, 20, 30, 40, 50]\n",
    "print(list[0]) #This is positive indexing\n",
    "print(list[-4]) #This is negative indexing\n",
    "print(list[1:4]) #This is slicing."
   ]
  },
  {
   "cell_type": "markdown",
   "id": "51f062cb-9510-4757-bc96-6a4d12d146b2",
   "metadata": {},
   "source": [
    "<br><h3>Modification of List elements</h3>\n",
    "<p>Modifying elements in a list is straightforward. Since lists in Python are mutable, we can change their elements after they have been created. We can modify elements by directly accessing their index and assigning a new value.</p>"
   ]
  },
  {
   "cell_type": "code",
   "execution_count": 8,
   "id": "492948f7-be56-4368-b2a4-eed42e681113",
   "metadata": {},
   "outputs": [
    {
     "name": "stdout",
     "output_type": "stream",
     "text": [
      "The modified list is as: [10, 25, 30, 40]\n",
      "The modified list is as: [10, 21, 31, 40, 50]\n",
      "The expanded list is: [10, 22, 32, 42, 40, 50]\n"
     ]
    }
   ],
   "source": [
    "my_list = [10, 20, 30, 40]\n",
    "# Modifying the second element (index 1)\n",
    "my_list[1] = 25\n",
    "print(f\"The modified list is as: {my_list}\")\n",
    "\n",
    "my_list = [10, 20, 30, 40, 50]\n",
    "# Modifying the second and third elements\n",
    "my_list[1:3] = [21, 31]\n",
    "print(f\"The modified list is as: {my_list}\")\n",
    "\n",
    "#Adding new elements by expanding the list\n",
    "my_list = [10, 21, 31, 40, 50]\n",
    "my_list[1:3] = [22, 32, 42]\n",
    "print(f\"The expanded list is: {my_list}\")"
   ]
  },
  {
   "cell_type": "markdown",
   "id": "d477f1f2-3a7d-4a10-b72e-32662c9e16f6",
   "metadata": {},
   "source": [
    "<br><h3>Some methods available with lists</h3>\n",
    "<ul>\n",
    "    <li>append() -> Adds an item to the end of the list.</li>\n",
    "    <li>extend() -> Adds all elements from another list (or any iterable) to the end of the current list.</li>\n",
    "    <li>insert() -> Inserts an item at a specific index.</li>\n",
    "    <li>remove() -> Removes the first occurrence of a specified value.</li>\n",
    "    <li>pop() -> Removes and returns the item at a specific index (default is the last element if no index is provided).</li>\n",
    "    <li>clear() -> Removes all elements from the list, making it an empty list.</li>\n",
    "    <li>sort() -> Sorts the list in place (ascending by default, but can be sorted in descending order using reverse=True).</li>\n",
    "    <li>reverse() -> Reverses the elements of the list in place.</li>\n",
    "    <li>copy() -> Returns a shallow copy of the list.</li>\n",
    "    <li>len() -> Returns the number of elements in the list.</li>\n",
    "</ul>"
   ]
  },
  {
   "cell_type": "markdown",
   "id": "82e75ac8-241a-461d-ba10-72093dd10447",
   "metadata": {},
   "source": [
    "<br><h3>Nested List</h3>\n",
    "<p>A nested list is a list that contains other lists as its elements. This allows you to create more complex data structures, where each sublist can hold multiple values, similar to a matrix or table. A nested list is a list within another list. Each element of the main list can be a list itself.</p>"
   ]
  },
  {
   "cell_type": "code",
   "execution_count": 2,
   "id": "8623d74a-0373-4799-b2b9-2dd3922b6621",
   "metadata": {},
   "outputs": [
    {
     "name": "stdout",
     "output_type": "stream",
     "text": [
      "First list of the nested list is: [1, 2, 3]\n",
      "Third element of the second list in the nested list is: 6\n"
     ]
    }
   ],
   "source": [
    "nested_list = [[1, 2, 3], [4, 5, 6], [7, 8, 9]]\n",
    "\n",
    "# Accessing elements from a nested list\n",
    "print(f\"First list of the nested list is: {nested_list[0]}\")\n",
    "print(f\"Third element of the second list in the nested list is: {nested_list[1][2]}\") "
   ]
  },
  {
   "cell_type": "markdown",
   "id": "b805c1c8-f4d1-473f-b8b8-33aa3e4bebe9",
   "metadata": {},
   "source": [
    "<br><h3>Iterating over elements in the List</h3>\n",
    "<p>Iterating over the elements of a list means going through each item one by one. This can be done using a for loop or while loop.</p>"
   ]
  },
  {
   "cell_type": "code",
   "execution_count": 10,
   "id": "eb8dfb37-beaa-4637-8d23-7c922ad062e8",
   "metadata": {},
   "outputs": [
    {
     "name": "stdout",
     "output_type": "stream",
     "text": [
      "Implementing iteration using for loop: \n",
      "1 2 3 4 \n",
      "\n",
      "Implementing iteration using while loop: \n",
      "1 2 3 4 "
     ]
    }
   ],
   "source": [
    "# With \"for\" loop\n",
    "my_list = [1, 2, 3, 4]\n",
    "print(\"Implementing iteration using for loop: \")\n",
    "for item in my_list:\n",
    "    print(item, end=\" \")\n",
    "print()\n",
    "print()\n",
    "\n",
    "# With \"while\" loop\n",
    "my_list = [1, 2, 3, 4]\n",
    "i = 0 #initialization of looping variable\n",
    "print(\"Implementing iteration using while loop: \")\n",
    "while i < len(my_list): #checking if the condition applies\n",
    "    print(my_list[i], end=\" \")\n",
    "    i += 1 #updating looping variable\n"
   ]
  },
  {
   "cell_type": "markdown",
   "id": "d34f2778-865c-4aa0-af96-26a9a6075ca7",
   "metadata": {},
   "source": [
    "<h4>Similarly, iterating over the Nested List</h4>"
   ]
  },
  {
   "cell_type": "code",
   "execution_count": 11,
   "id": "2d1862ff-4a72-44c1-8a89-e97a3bcab316",
   "metadata": {},
   "outputs": [
    {
     "name": "stdout",
     "output_type": "stream",
     "text": [
      "1 2 3 4 5 6 7 8 9 "
     ]
    }
   ],
   "source": [
    "nested_list = [[1, 2, 3], [4, 5, 6], [7, 8, 9]]\n",
    "\n",
    "for sublist in nested_list:\n",
    "    for item in sublist:\n",
    "        print(item, end=\" \")"
   ]
  },
  {
   "cell_type": "markdown",
   "id": "58d19c02-165c-456a-8488-d86f399e0ca0",
   "metadata": {},
   "source": [
    "<br>\n",
    "<div style=\"text-align: center;\">\n",
    "    <img src=\"https://365datascience.com/resources/blog/2018-07-Tuples-min-1.png\" style=\"width: 70%; height: auto; max-height: 40vw; border: 1px solid skyblue;\">\n",
    "</div>\n",
    "<br>"
   ]
  },
  {
   "cell_type": "markdown",
   "id": "b103360e-db86-4ffd-80fe-de12ffdf97b6",
   "metadata": {},
   "source": [
    "# Python Tuples\n",
    "<hr style=\"border: 2px solid rgba(0, 0, 0, 0.1); width: 100%; margin: 20px auto;\">"
   ]
  },
  {
   "cell_type": "markdown",
   "id": "d4e535f0-4a18-4701-b714-09b17e57b04f",
   "metadata": {},
   "source": [
    "<div>\n",
    "    A tuple is a built-in data structure in Python that is similar to a list but has a few key differences:\n",
    "    <h3>Key Characteristics of Tuples:</h3>\n",
    "    <ul>\n",
    "        <li>Immutable: Once a tuple is created, its elements cannot be changed, added, or removed. This immutability makes tuples useful for data that should not be modified.</li>\n",
    "        <li>Ordered: Like lists, tuples maintain the order of elements, and you can access them using indexing.</li>\n",
    "        <li>Defined with Parentheses: Tuples are defined using parentheses (), while lists use square brackets [].</li>\n",
    "    </ul>\n",
    "</div>"
   ]
  },
  {
   "cell_type": "markdown",
   "id": "4654e27f-f66c-4cdf-8fa2-91625e185ee9",
   "metadata": {},
   "source": [
    "<h3>Creating Tuple and Accessing Values</h3>\n",
    "<p>To create a tuple in Python, you can define it using parentheses (), separating the elements with commas. Procedure of accessing the elements in Tuples is very similar to that of the List.</p>"
   ]
  },
  {
   "cell_type": "code",
   "execution_count": 14,
   "id": "16a91cd4-3550-4138-b9d7-68de3d9f9e4e",
   "metadata": {},
   "outputs": [
    {
     "name": "stdout",
     "output_type": "stream",
     "text": [
      "2\n",
      "1\n"
     ]
    }
   ],
   "source": [
    "my_tuple = (1, 2, 3)\n",
    "\n",
    "# Creating a tuple with mixed data types\n",
    "mixed_tuple = (1, \"hello\", 3.14)\n",
    "\n",
    "# Creating a tuple with a single element\n",
    "single_element_tuple = (42,)\n",
    "\n",
    "# Accessing elements in a tuple (similar to Lists)\n",
    "print(my_tuple[1])\n",
    "print(mixed_tuple[0])"
   ]
  },
  {
   "cell_type": "markdown",
   "id": "31489270-c1c5-4b73-9a6f-66ed1b46e37a",
   "metadata": {},
   "source": [
    "<br><h3>Tuple operations (available for Lists too)</h3>"
   ]
  },
  {
   "cell_type": "code",
   "execution_count": 15,
   "id": "bf589e12-8565-428a-86c3-18fe3ef9a6f0",
   "metadata": {},
   "outputs": [
    {
     "name": "stdout",
     "output_type": "stream",
     "text": [
      "Tuple generated through concatenation: (1, 2, 3, 4, 5, 6)\n",
      "Tuple generated by repetition: (1, 2, 3, 1, 2, 3, 1, 2, 3)\n"
     ]
    }
   ],
   "source": [
    "tuple1 = (1, 2, 3)\n",
    "tuple2 = (4, 5, 6)\n",
    "\n",
    "concatenated_tuple = tuple1 + tuple2 #Concatination of two tuples\n",
    "print(f\"Tuple generated through concatenation: {concatenated_tuple}\")\n",
    "\n",
    "repeated_tuple = tuple1 * 3\n",
    "print(f\"Tuple generated by repetition: {repeated_tuple}\")\n"
   ]
  },
  {
   "cell_type": "markdown",
   "id": "2b729209-38d9-4c29-8b54-c013e0076f84",
   "metadata": {
    "jp-MarkdownHeadingCollapsed": true
   },
   "source": [
    "<br><h3>Tuple Methods</h3>\n",
    "<p>There are few available methods for Tuples due to their immutability.</p>\n",
    "<ul>\n",
    "    <li>count() -> Returns the number of occurrences of a specified value in the tuple.</li>\n",
    "    <li>index() -> Returns the index of the first occurrence of a specified value. Raises a ValueError if the value is not found.</li>\n",
    "</ul>"
   ]
  },
  {
   "cell_type": "markdown",
   "id": "1181bc98-e25c-4783-b7da-77f40aeaeead",
   "metadata": {},
   "source": [
    "<br><h3>Tuples packing and unpacking</h3>"
   ]
  },
  {
   "cell_type": "code",
   "execution_count": 17,
   "id": "d167ae71-f968-439f-ad8a-5592ad85dd4a",
   "metadata": {},
   "outputs": [
    {
     "name": "stdout",
     "output_type": "stream",
     "text": [
      "Values of a: 1, b: 2 and c: 3\n",
      "Values of m: [1, 2] and n: 3\n"
     ]
    }
   ],
   "source": [
    "tuple = (1, 2, 3)\n",
    "a, b, c = tuple #Assigning values of a tuple to variables: Unpacking\n",
    "*m, n = tuple #Extended Unpacking \n",
    "\n",
    "print(f\"Values of a: {a}, b: {b} and c: {c}\")\n",
    "print(f\"Values of m: {m} and n: {n}\")"
   ]
  },
  {
   "cell_type": "markdown",
   "id": "65123408-7b2f-45ef-a1fc-7d8eb7b9cf7b",
   "metadata": {},
   "source": [
    "<br><h3>Nested Tuple</h3>\n",
    "<p>Tuples can contain other tuples within them</p>"
   ]
  },
  {
   "cell_type": "code",
   "execution_count": 21,
   "id": "5e3d7924-3944-4ad6-8456-5fdfbbaf93ad",
   "metadata": {},
   "outputs": [
    {
     "name": "stdout",
     "output_type": "stream",
     "text": [
      "First element of the nested tuple: 1\n",
      "Third element of the third data in the nested tuple: 9\n"
     ]
    }
   ],
   "source": [
    "nested_tuple = (1, (2, 3), (5, 7, 9))\n",
    "print(f\"First element of the nested tuple: {nested_tuple[0]}\")\n",
    "print(f\"Third element of the third data in the nested tuple: {nested_tuple[2][2]}\")"
   ]
  },
  {
   "cell_type": "markdown",
   "id": "17b6c379-9679-4344-9bc9-ef8ad4c7c334",
   "metadata": {},
   "source": [
    "<br><h3>Swapping values using tuple</h3>\n",
    "<p>It is easy to swap values using tuples.</p>"
   ]
  },
  {
   "cell_type": "code",
   "execution_count": 1,
   "id": "f4ab6d80-5ac3-4e46-b1f1-fcfaa540546d",
   "metadata": {},
   "outputs": [
    {
     "name": "stdout",
     "output_type": "stream",
     "text": [
      "Values after swapping: a: 2 and b: 1\n"
     ]
    }
   ],
   "source": [
    "a = 1\n",
    "b = 2\n",
    "a, b = b, a\n",
    "print(f\"Values after swapping: a: {a} and b: {b}\")"
   ]
  },
  {
   "cell_type": "markdown",
   "id": "592eb114-30d0-44d0-b0ed-79c546da7e7c",
   "metadata": {},
   "source": [
    "<br><br>\n",
    "<div style=\"text-align: center;\">\n",
    "    <img src=\"https://media.licdn.com/dms/image/D4E12AQE20bQSyY0EmQ/article-cover_image-shrink_600_2000/0/1705452502100?e=2147483647&v=beta&t=PNLs4tOIlmi_Q6w4gt-5H646kh9aH0ZO76hAj8RSg2w\" style=\"width: 70%; height: auto; max-height: 40vw; border: 1px solid white;\">\n",
    "</div>\n",
    "<br>"
   ]
  },
  {
   "cell_type": "markdown",
   "id": "84ef1ae6-3cef-48b8-bceb-c004e9bfacec",
   "metadata": {},
   "source": [
    "# Python Dictionary\n",
    "<hr style=\"border: 2px solid rgba(0, 0, 0, 0.1); width: 100%; margin: 20px auto;\">"
   ]
  },
  {
   "cell_type": "markdown",
   "id": "a758a275-fb95-4540-9d73-723d01977aac",
   "metadata": {},
   "source": [
    "<div>\n",
    "    \n",
    "A Python dictionary is an unordered, mutable collection of key-value pairs. Here’s a concise overview:\n",
    "\n",
    "<h3>Key Characteristics:</h3>\n",
    "\n",
    "<ul>\n",
    "    <li>Key-Value Pairs: A dictionary stores items in key-value pairs, where each key must be unique, but values can be repeated.</li>\n",
    "    <li>Mutable: You can modify the dictionary by adding, updating, or removing items.</li>\n",
    "    <li>Unordered: In Python versions prior to 3.7, dictionaries do not maintain order. From Python 3.7 onwards, dictionaries retain insertion order.</li>\n",
    "</ul>\n",
    "</div>"
   ]
  },
  {
   "cell_type": "markdown",
   "id": "309035a7-51a7-4c1d-ba40-7efde0bbe1da",
   "metadata": {},
   "source": [
    "<div>\n",
    "    <h3>Creating Dictionary</h3>\n",
    "    We can create a dictionary using curly braces {} or the dict() function.\n",
    "</div>\n"
   ]
  },
  {
   "cell_type": "code",
   "execution_count": 9,
   "id": "1595d338-96fd-43df-8fe4-cc1f8826643a",
   "metadata": {},
   "outputs": [
    {
     "name": "stdout",
     "output_type": "stream",
     "text": [
      "{'name': 'John', 'age': 25, 'city': 'New York'}\n",
      "{'name': 'John', 'age': 25, 'city': 'New York'}\n"
     ]
    }
   ],
   "source": [
    "# Using curly braces\n",
    "my_dict = {'name': 'John', 'age': 25, 'city': 'New York'}\n",
    "\n",
    "# Using dict() function\n",
    "my_dict2 = dict(name='John', age=25, city='New York')\n",
    "\n",
    "print(my_dict)\n",
    "print(my_dict2)"
   ]
  },
  {
   "cell_type": "markdown",
   "id": "f532afeb-de36-4a0f-9718-7b18b5524231",
   "metadata": {},
   "source": [
    "<div>\n",
    "    <h3>Accessing Elements:</h3>\n",
    "    We can access a value by referring to its key:\n",
    "</div>"
   ]
  },
  {
   "cell_type": "code",
   "execution_count": 10,
   "id": "dc0b1bee-1b8f-4eb0-8958-a4d40da2e2fd",
   "metadata": {},
   "outputs": [
    {
     "name": "stdout",
     "output_type": "stream",
     "text": [
      "John\n"
     ]
    }
   ],
   "source": [
    "output = my_dict['name']\n",
    "print(output)"
   ]
  },
  {
   "cell_type": "markdown",
   "id": "e7571920-39f7-4b70-b3b0-8215c261851b",
   "metadata": {},
   "source": [
    "<p>You can also use the .get() method to avoid errors if the key doesn’t exist:</p>"
   ]
  },
  {
   "cell_type": "code",
   "execution_count": 7,
   "id": "b1ad2c88-b73a-4299-ad28-bd6f472874dc",
   "metadata": {},
   "outputs": [
    {
     "data": {
      "text/plain": [
       "'Not found'"
      ]
     },
     "execution_count": 7,
     "metadata": {},
     "output_type": "execute_result"
    }
   ],
   "source": [
    "my_dict.get('height', 'Not found')"
   ]
  },
  {
   "cell_type": "markdown",
   "id": "0af77984-f996-44a8-91d9-808a096b8f1d",
   "metadata": {},
   "source": [
    "<h3>Common Methods:</h3>"
   ]
  },
  {
   "cell_type": "markdown",
   "id": "779e31bf-3867-4e0e-b48b-b8bee4d668c8",
   "metadata": {},
   "source": [
    "<h4>1. Adding/Updating Items:<h4>"
   ]
  },
  {
   "cell_type": "code",
   "execution_count": 6,
   "id": "eabf9708-e64b-47ff-b562-f7c83e59b49a",
   "metadata": {},
   "outputs": [
    {
     "name": "stdout",
     "output_type": "stream",
     "text": [
      "Engineer\n",
      "26\n"
     ]
    }
   ],
   "source": [
    "my_dict['profession'] = 'Engineer'  # Adds a new key-value pair\n",
    "my_dict['age'] = 26  # Updates the value of 'age'\n",
    "\n",
    "print(my_dict['profession'])\n",
    "print(my_dict.get(\"age\", \"Not Found\"))"
   ]
  },
  {
   "cell_type": "markdown",
   "id": "9a6b4558-70c9-422c-94c0-995a3a80be6d",
   "metadata": {},
   "source": [
    "<h4>2. Removing Items:</h4>"
   ]
  },
  {
   "cell_type": "code",
   "execution_count": 5,
   "id": "8ba0bb81-aed0-4907-82d8-d610488f5dc9",
   "metadata": {},
   "outputs": [],
   "source": [
    "my_dict.pop('age')  # Removes 'age' key\n",
    "del my_dict['city']  # Another way to remove an item\n",
    "my_dict.clear()  # Removes all items"
   ]
  },
  {
   "cell_type": "markdown",
   "id": "35a1ba34-6327-4882-8f0e-85505b35cae7",
   "metadata": {},
   "source": [
    "<h4>3. Checking Existence:</h4>"
   ]
  },
  {
   "cell_type": "code",
   "execution_count": 12,
   "id": "ee9b598e-009c-498f-adf7-d1977ba359d8",
   "metadata": {},
   "outputs": [
    {
     "data": {
      "text/plain": [
       "True"
      ]
     },
     "execution_count": 12,
     "metadata": {},
     "output_type": "execute_result"
    }
   ],
   "source": [
    "'name' in my_dict "
   ]
  },
  {
   "cell_type": "markdown",
   "id": "82d3e604-bf26-4368-bc3c-7888774aea54",
   "metadata": {},
   "source": [
    "<h4>4. Iterating Over Dictionary:</h4>"
   ]
  },
  {
   "cell_type": "code",
   "execution_count": 13,
   "id": "9634117f-d73e-48bc-be48-f738c9175a51",
   "metadata": {},
   "outputs": [
    {
     "name": "stdout",
     "output_type": "stream",
     "text": [
      "name John\n",
      "age 25\n",
      "city New York\n"
     ]
    }
   ],
   "source": [
    "for key, value in my_dict.items(): #This loops through both keys and values.\n",
    "    print(key, value)"
   ]
  },
  {
   "cell_type": "markdown",
   "id": "13a9b915-88f6-41b6-ac0e-f1990ff66c48",
   "metadata": {},
   "source": [
    "<br>\n",
    "<h3>Dictionary Comprehension:</h3>\n",
    "We can create dictionaries using dictionary comprehension:"
   ]
  },
  {
   "cell_type": "code",
   "execution_count": 16,
   "id": "1e24b1ed-69a6-4cc7-8618-a66e63ba9cc7",
   "metadata": {},
   "outputs": [
    {
     "name": "stdout",
     "output_type": "stream",
     "text": [
      "{1: 1, 2: 4, 3: 9, 4: 16, 5: 25}\n"
     ]
    }
   ],
   "source": [
    "squared_numbers = {x: x**2 for x in range(1, 6)}\n",
    "print(squared_numbers)"
   ]
  },
  {
   "cell_type": "markdown",
   "id": "3c4e07c2-7da4-4500-b02e-7ebf14d1fec7",
   "metadata": {},
   "source": [
    "<h3>Merging Dictionaries:</h3>\n",
    "From Python 3.9, you can merge two dictionaries using the | operator:"
   ]
  },
  {
   "cell_type": "code",
   "execution_count": 18,
   "id": "f404be1c-2db9-41dd-9826-4b1a6b35084e",
   "metadata": {},
   "outputs": [
    {
     "name": "stdout",
     "output_type": "stream",
     "text": [
      "{'name': 'Ram', 'age': '26', 'address': 'Lalitpur'}\n"
     ]
    }
   ],
   "source": [
    "dict1 = {\"name\": \"Ram\", \"age\": \"26\"}\n",
    "dict2 = {\"address\": \"Lalitpur\"}\n",
    "new_dict = dict1 | dict2\n",
    "print(new_dict)"
   ]
  }
 ],
 "metadata": {
  "kernelspec": {
   "display_name": "Python 3 (ipykernel)",
   "language": "python",
   "name": "python3"
  },
  "language_info": {
   "codemirror_mode": {
    "name": "ipython",
    "version": 3
   },
   "file_extension": ".py",
   "mimetype": "text/x-python",
   "name": "python",
   "nbconvert_exporter": "python",
   "pygments_lexer": "ipython3",
   "version": "3.12.5"
  },
  "panel-cell-order": [
   "66f39cf0-f5a3-4f9d-89d2-28b67a630a57",
   "84f86fde-d45d-42b0-8be1-e2edaa8e21c6",
   "fe328803-f246-40e9-8cf7-a68b50699707",
   "8c930972-af19-4e26-aea2-accdd324d547",
   "aeaaa910-9d2f-40f6-9400-3367847215e4",
   "b8f89097-5e25-4d02-89e6-bfa9af36cf42",
   "8f93a334-3a65-4087-b023-ba09fde19443"
  ]
 },
 "nbformat": 4,
 "nbformat_minor": 5
}
