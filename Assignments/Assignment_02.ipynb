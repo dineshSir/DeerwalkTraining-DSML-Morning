{
 "cells": [
  {
   "cell_type": "markdown",
   "metadata": {},
   "source": [
    "# Q. In the provided file please use regex to extract the email with username and the domain name separated (use group to accomplish this feat.)"
   ]
  },
  {
   "cell_type": "code",
   "execution_count": 15,
   "metadata": {},
   "outputs": [
    {
     "name": "stdout",
     "output_type": "stream",
     "text": [
      "File name named 'username_and_domains.txt' created succesfully.\n"
     ]
    }
   ],
   "source": [
    "import re\n",
    "with open('emails.txt', 'r') as file1, open('username_and_domains_separated.txt', 'w') as file2:\n",
    "    column1, column2 = \"USERNAME\", \"DOMAIN\"\n",
    "    file2.write(f\"{column1:<10}{column2:>10}\\n\")\n",
    "    pattern = r'(^[a-zA-Z0-9]([._%+-]?[a-zA-Z0-9]){0,63})@((([a-zA-Z0-9]([-][a-zA-Z0-9])?)+)\\.[a-zA-Z0-0]{2,}(\\.[a-zA-Z])?)'\n",
    "    match = re.match(pattern, \"k41dw@gmail.com\")\n",
    "    for line in file1:\n",
    "        data = line.strip()\n",
    "        match = re.match(pattern, data)\n",
    "        if match:\n",
    "            username = match.group(1)\n",
    "            domain = match.group(3)\n",
    "            file2.write(f\"{username:<10}{domain:>10}\\n\")\n",
    "    print(\"File name named 'username_and_domains.txt' created succesfully.\")\n",
    "            "
   ]
  },
  {
   "cell_type": "code",
   "execution_count": null,
   "metadata": {},
   "outputs": [],
   "source": []
  }
 ],
 "metadata": {
  "kernelspec": {
   "display_name": "venv",
   "language": "python",
   "name": "python3"
  },
  "language_info": {
   "codemirror_mode": {
    "name": "ipython",
    "version": 3
   },
   "file_extension": ".py",
   "mimetype": "text/x-python",
   "name": "python",
   "nbconvert_exporter": "python",
   "pygments_lexer": "ipython3",
   "version": "3.12.5"
  }
 },
 "nbformat": 4,
 "nbformat_minor": 2
}
