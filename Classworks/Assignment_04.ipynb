{
 "cells": [
  {
   "cell_type": "markdown",
   "id": "b667e9e9-95e9-4fff-80d6-aad176626609",
   "metadata": {},
   "source": [
    "1. Write a program display “Hello World!”."
   ]
  },
  {
   "cell_type": "code",
   "execution_count": 4,
   "id": "8217012f-5e45-493b-a107-0613167f7dd8",
   "metadata": {},
   "outputs": [
    {
     "name": "stdout",
     "output_type": "stream",
     "text": [
      "Hello World!\n"
     ]
    }
   ],
   "source": [
    "#Q1\n",
    "print(\"Hello World!\")"
   ]
  },
  {
   "cell_type": "markdown",
   "id": "c7a212dc-1272-414f-a18b-138acb8b885d",
   "metadata": {},
   "source": [
    "2. Write a program to find sum of two numbers. Use input() function to take input from the\n",
    "user."
   ]
  },
  {
   "cell_type": "code",
   "execution_count": null,
   "id": "7195796e-5419-41cb-ba6b-760c03580354",
   "metadata": {},
   "outputs": [],
   "source": [
    "#Q2\n",
    "num1, num2 = int(input(\"Enter first number: \")), int(input(\"Enter second number:\"))\n",
    "print(f\"The sum of the numbers given is: {num1+num2}\")"
   ]
  },
  {
   "cell_type": "markdown",
   "id": "79ca4fbc-7e49-4943-87c0-ba1b1a7a16d9",
   "metadata": {},
   "source": [
    "3. Write a program to calculate discount on the basis of following assumption:\n",
    "a) If purchased amount is greater than or equal to 1000, discount is 5%"
   ]
  },
  {
   "cell_type": "code",
   "execution_count": null,
   "id": "ff267b31-0f86-4a20-9dc3-b34d05411f65",
   "metadata": {},
   "outputs": [],
   "source": [
    "#Q3\n",
    "purchased_amount = int(input(\"Enter the total purchase amount:\"))\n",
    "if purchased_amount >= 1000:\n",
    "    discount_amount = 0.05 * purchased_amount\n",
    "    print(f\"The discounted amount is: {discount_amount}\")\n",
    "else:\n",
    "    print(\"Your purchase amount is insufficient for discount of 5%.\")"
   ]
  },
  {
   "cell_type": "markdown",
   "id": "0684aa80-0cc7-49ca-98f8-bf39f2d9a6f1",
   "metadata": {},
   "source": [
    "4. Write a program to calculate discount on the basis of following assumption:\n",
    "a) If purchased amount is greater than or equal to 1000, discount is 5%\n",
    "b) If purchased amount is less than 1000, discount is 3%"
   ]
  },
  {
   "cell_type": "code",
   "execution_count": null,
   "id": "dc2201fb-7811-4dfb-a7f0-284b76c2d98d",
   "metadata": {},
   "outputs": [],
   "source": [
    "#Q4\n",
    "purchased_amount = int(input(\"Enter the total purchase amount:\"))\n",
    "if purchased_amount >= 1000:\n",
    "    discount_amount = 0.05 * purchased_amount\n",
    "else:\n",
    "    discount_amount = 0.03 * purchased_amount\n",
    "\n",
    "print(f\"Your purchase amount is: {discount_amount}.\")"
   ]
  },
  {
   "cell_type": "markdown",
   "id": "62af92c1-ac10-414c-8c25-243289ec4659",
   "metadata": {},
   "source": [
    "5. Write a program to calculate discount on the basis of following assumption:\n",
    "a) If purchased amount is greater than or equal to 5000, discount is 10%\n",
    "b) If purchased amount is greater than or equal to 4000 and less than 5000, discount is 7%\n",
    "c) If purchased amount is greater than or equal to 3000 and less than 4000, discount is 5%\n",
    "d) If purchased amount is greater than or equal to 2000 and less than 3000, discount is 3%\n",
    "e) If purchased amount is less than 2000, discount is 2%"
   ]
  },
  {
   "cell_type": "code",
   "execution_count": null,
   "id": "aa416a5d-ab6f-4943-9a4f-4a72a22fcb52",
   "metadata": {},
   "outputs": [],
   "source": [
    "#Q5\n",
    "purchased_amount = int(input(\"Enter the total purchase amount:\"))\n",
    "if purchased_amount >= 2000:\n",
    "    if purchased_amount < 3000:\n",
    "        discount_amount = purchased_amount * 0.03\n",
    "    else:\n",
    "        if purchased_amount < 4000:\n",
    "            discount_amount = purchased_amount * 0.05\n",
    "        else:\n",
    "            if purchased_amount < 5000:\n",
    "                discount_amount = purchased_amount * 0.07\n",
    "            else:\n",
    "                discount_amount = purchased_amount * 0.1     \n",
    "else:\n",
    "    discount_amount = 0.02 * purchased_amount\n",
    "    \n",
    "print(f\"The discount amount is: {discount_amount}\")"
   ]
  },
  {
   "cell_type": "markdown",
   "id": "7d0852d6-3c5a-4f05-a595-cb0b121f912a",
   "metadata": {},
   "source": [
    "6. Write a program to calculate the simple interest on the basis of following assumption:\n",
    "a) If balance is greater than 99999, interest is 7 %\n",
    "b) If balance is greater than or equal to 50000 and less than 100000 interest is 5 %\n",
    "c) If balance is less than 50000, interest is 3%"
   ]
  },
  {
   "cell_type": "code",
   "execution_count": null,
   "id": "d820ddfe-b7c4-411c-a61c-50a9fbb1c9db",
   "metadata": {},
   "outputs": [],
   "source": [
    "#Q6\n",
    "balance = int(input(\"Enter the balance amount: \"))\n",
    "duration_in_years = int(input(\"Enter the duration in years: \"))\n",
    "if balance >= 50000:\n",
    "    if balance < 100000:\n",
    "        rate = 0.05\n",
    "    else:\n",
    "        rate = 0.07\n",
    "        \n",
    "else:\n",
    "    rate = 0.03\n",
    "interest = balance * duration_in_years * rate\n",
    "print(f\"The interest amount is: {interest}, with interest rate of {int(rate * 100)}%.\")"
   ]
  },
  {
   "cell_type": "markdown",
   "id": "7cd4d052-fabe-4dab-8e7e-84f1b2a41e5f",
   "metadata": {},
   "source": [
    "7. Write a program to test whether a number is even or odd."
   ]
  },
  {
   "cell_type": "code",
   "execution_count": null,
   "id": "4af52791-c69d-443a-ab9c-beb8ee8759c3",
   "metadata": {},
   "outputs": [],
   "source": [
    "check_number = int(input(\"Enter the number to check if odd or even:\"))\n",
    "print(\"The Number is Even.\" if check_number%2 == 0 else \"The Number is Odd\")\n"
   ]
  },
  {
   "cell_type": "markdown",
   "id": "f92b2555-338a-4b2d-b527-7ca4ea44ee3f",
   "metadata": {},
   "source": [
    "8. Admission to a professional course is subject to the following conditions:\n",
    "a) Marks in mathematics >=60\n",
    "b) Marks in physics >=50\n",
    "c) Marks in chemistry >=40\n",
    "d) Total in all three subjects >=200\n",
    "    Or\n",
    "Total in mathematics and physics>=150\n",
    "\n",
    "Given the marks in three subjects, write a program to process the applications to list eligible candidates."
   ]
  },
  {
   "cell_type": "code",
   "execution_count": null,
   "id": "3fdbc2e6-4b0d-47b3-945a-922d02ceec29",
   "metadata": {},
   "outputs": [],
   "source": [
    "#Q8\n",
    "class Student:\n",
    "    def __init__(self, name, math, physics, chemistry):\n",
    "        self.name = name\n",
    "        self.math = math\n",
    "        self.physics = physics\n",
    "        self.chemistry = chemistry\n",
    "        self.all_total = math + physics + chemistry\n",
    "        self.math_physics_total = math + physics\n",
    "\n",
    "    def __str__(self):\n",
    "        return f\"{self.name}\"\n",
    "\n",
    "    @classmethod\n",
    "    def createStudent(cls, students_list, name, math, physics, chemistry):\n",
    "        students_list.append(cls(name, math, physics, chemistry))\n",
    "        return\n",
    "\n",
    "    def isEligible(self):\n",
    "        if self.math_physics_total >= 150 or self.all_total >= 200 or (self.math >= 60 and self.physics >= 50 and self.chemistry >= 40):\n",
    "            return True\n",
    "        else:\n",
    "            return False\n",
    "\n",
    "def takeDetails(number_of_students, student_list):\n",
    "    for i in range(1, number_of_students+1):\n",
    "        name = input(\"Enter the name of student: \")\n",
    "        print(\"-------------------------------------------\")\n",
    "        print(f\"Enter marks of {name}, in each subjects:\")\n",
    "        math, physics, chemistry = int(input(\"Mathematics: \")), int(input(\"Physics: \")), int(input(\"Chemistry:\"))\n",
    "        Student.createStudent(students_list, name, math, physics, chemistry)\n",
    "\n",
    "if __name__ == \"__main__\":\n",
    "    number_of_students = int(input(\"Enter the total number of students:\"))\n",
    "    students_list = []\n",
    "    takeDetails(number_of_students, students_list)\n",
    "\n",
    "    print(\"---------------------------------------------------\")\n",
    "    print(\"---------------------------------------------------\")\n",
    "    print(\"The students eligible for professional course are:\")\n",
    "    for student in students_list:\n",
    "        if student.isEligible():\n",
    "            print(f\"{student.name}\")\n",
    "\n",
    "    print(\"------------------\")\n",
    "    print(\"The students not eligible for professional course are:\")\n",
    "    index = 0\n",
    "    for student in students_list:\n",
    "        if not student.isEligible():\n",
    "            print(f\"{student.name}\")\n",
    "        "
   ]
  },
  {
   "cell_type": "markdown",
   "id": "0e3c19cf-da02-4276-93e6-62ad30f45aea",
   "metadata": {},
   "source": [
    "9. The rates of tax on gross salary are as shown below:\n",
    "        Income Tax\n",
    "    Less than 10,000 Nill\n",
    "    Rs. 10,000 to 19,999 10%\n",
    "    Rs. 20,000 to 39,999 15%\n",
    "    Rs. 40,000 to above 20%\n",
    "Write a program to compute the net salary after deducting the tax for the given information and print the same."
   ]
  },
  {
   "cell_type": "code",
   "execution_count": null,
   "id": "9fd2ccd4-48d1-4d51-b030-a5037ba65ad6",
   "metadata": {},
   "outputs": [],
   "source": [
    "#Q9\n",
    "salary = int(input(\"Enter your salary: \"))\n",
    "if salary >= 10000:\n",
    "    if salary < 20000:\n",
    "        income_tax = 0.1\n",
    "    else:\n",
    "        if salary < 40000:\n",
    "            income_tax = 0.15\n",
    "        else:\n",
    "            income_tax = 0.2\n",
    "else:\n",
    "    income_tax = 0.00\n",
    "\n",
    "gross_salary = (1 - income_tax) * salary\n",
    "print(f\"Your gross salary is: {gross_salary}\")"
   ]
  },
  {
   "cell_type": "markdown",
   "id": "9413dbfe-6e17-4285-9c28-d9dd6b98424b",
   "metadata": {},
   "source": [
    "10. Write a program to check whether a year entered is leap or not."
   ]
  },
  {
   "cell_type": "code",
   "execution_count": null,
   "id": "1419f072-e893-4216-9a24-1d4cd0f38af8",
   "metadata": {},
   "outputs": [],
   "source": [
    "#Q10\n",
    "year = int(input(\"Enter a valid year to check leap year or not:\"))\n",
    "check = False\n",
    "if year % 400 == 0:\n",
    "    check = True\n",
    "else:\n",
    "    if year % 100 != 0 and year % 4 == 0:\n",
    "        check = True\n",
    "\n",
    "message = \"Its a leap year.\" if check == True else \"It is not a leap year.\"\n",
    "print(message)"
   ]
  },
  {
   "cell_type": "markdown",
   "id": "c4483d83-72b7-4542-84e2-3366c14e121c",
   "metadata": {},
   "source": [
    "11. Write a program to display “MDS” 10 times."
   ]
  },
  {
   "cell_type": "code",
   "execution_count": 3,
   "id": "198e1c44-f6ec-49d8-b525-12a8f96bb98e",
   "metadata": {},
   "outputs": [
    {
     "name": "stdout",
     "output_type": "stream",
     "text": [
      "MDS\n",
      "MDS\n",
      "MDS\n",
      "MDS\n",
      "MDS\n",
      "MDS\n",
      "MDS\n",
      "MDS\n",
      "MDS\n",
      "MDS\n"
     ]
    }
   ],
   "source": [
    "#Q11\n",
    "\n",
    "# string = \"MDS\\n\"\n",
    "# print(string * 10)\n",
    "\n",
    "for i in range(10):\n",
    "    print(\"MDS\")"
   ]
  },
  {
   "cell_type": "markdown",
   "id": "5e7df9bc-9d98-4909-a048-042df5063c1e",
   "metadata": {},
   "source": [
    "12. Write a program to find sum and average of 10 numbers stored in a list."
   ]
  },
  {
   "cell_type": "code",
   "execution_count": 2,
   "id": "96116c56-22dc-4f4f-838a-3516c56f7f08",
   "metadata": {},
   "outputs": [
    {
     "name": "stdout",
     "output_type": "stream",
     "text": [
      "Enter 10 numbers to store in the list each followed by enter key:\n"
     ]
    },
    {
     "name": "stdin",
     "output_type": "stream",
     "text": [
      " 1\n",
      " 2\n",
      " 3\n",
      " 4\n",
      " 5\n",
      " 6\n",
      " 7\n",
      " 8\n",
      " 9\n",
      " 10\n"
     ]
    },
    {
     "name": "stdout",
     "output_type": "stream",
     "text": [
      "The sum of the numbers is: 55\n",
      "The average of the numbers is: 5.5\n"
     ]
    }
   ],
   "source": [
    "#Q12\n",
    "number_list = []\n",
    "print('Enter 10 numbers to store in the list each followed by enter key:')\n",
    "for i in range(10):\n",
    "    number = int(input(\"\"))\n",
    "    number_list.append(number)\n",
    "\n",
    "sum = 0\n",
    "for number in number_list:\n",
    "    sum += number\n",
    "print(f\"The sum of the numbers is: {sum}\")\n",
    "average = sum / 10\n",
    "print(f\"The average of the numbers is: {average}\")\n"
   ]
  },
  {
   "cell_type": "markdown",
   "id": "16c3a32c-4493-4bd8-b063-2c2b32428efd",
   "metadata": {},
   "source": [
    "13. Write a program to display prime numbers up to 100."
   ]
  },
  {
   "cell_type": "code",
   "execution_count": 2,
   "id": "38d5b98b-9b4e-46a7-965d-8202463242d6",
   "metadata": {},
   "outputs": [
    {
     "name": "stdout",
     "output_type": "stream",
     "text": [
      "2\n",
      "3\n",
      "5\n",
      "7\n",
      "11\n",
      "13\n",
      "17\n",
      "19\n",
      "23\n",
      "29\n",
      "31\n",
      "37\n",
      "41\n",
      "43\n",
      "47\n",
      "53\n",
      "59\n",
      "61\n",
      "67\n",
      "71\n",
      "73\n",
      "79\n",
      "83\n",
      "89\n",
      "97\n"
     ]
    }
   ],
   "source": [
    "#Q13\n",
    "prime_list = []\n",
    "for number in range(1, 101):\n",
    "    divided_by = []\n",
    "    for check_divisor in range(1, number+1):\n",
    "        if number % check_divisor == 0:\n",
    "            divided_by.append(check_divisor)\n",
    "    if len(divided_by) == 2:\n",
    "        prime_list.append(number)\n",
    "\n",
    "for prime_number in prime_list:\n",
    "    print(prime_number)"
   ]
  },
  {
   "cell_type": "markdown",
   "id": "facf21a1-13cc-4757-b6a0-c57a81c744cf",
   "metadata": {},
   "source": [
    "14. Write a program to find sum of digits of a number."
   ]
  },
  {
   "cell_type": "code",
   "execution_count": 9,
   "id": "38e74eac-aae4-41fa-9222-2eee8d3d0cb1",
   "metadata": {},
   "outputs": [
    {
     "name": "stdin",
     "output_type": "stream",
     "text": [
      "Enter the number to find sum of digits:  0093\n"
     ]
    },
    {
     "name": "stdout",
     "output_type": "stream",
     "text": [
      "The sum of digits of the given number is: 12\n"
     ]
    }
   ],
   "source": [
    "#Q15\n",
    "number = int(input(\"Enter the number to find sum of digits: \"))\n",
    "sum = 0\n",
    "while True:\n",
    "    if number == 0:\n",
    "        break\n",
    "    sum += number % 10\n",
    "    number = number // 10\n",
    "\n",
    "print(f\"The sum of digits of the given number is: {sum}\")\n",
    "    "
   ]
  },
  {
   "cell_type": "markdown",
   "id": "afbc3557-ddf8-4054-b22a-beda795c2878",
   "metadata": {},
   "source": [
    "15. Write a program to check whether a number is palindrome or not."
   ]
  },
  {
   "cell_type": "code",
   "execution_count": 23,
   "id": "ca4e0c15-f323-4bbb-9c9c-8a56ef36f4d2",
   "metadata": {},
   "outputs": [
    {
     "name": "stdin",
     "output_type": "stream",
     "text": [
      "Enter the number to check if palindrome:  0121\n"
     ]
    },
    {
     "name": "stdout",
     "output_type": "stream",
     "text": [
      "Palindrome Number\n"
     ]
    }
   ],
   "source": [
    "number = int(input(\"Enter the number to check if palindrome: \"))\n",
    "original_number = number\n",
    "reversed_number = 0\n",
    "while number > 0:\n",
    "        last_digit = number % 10\n",
    "        number = number // 10\n",
    "        reversed_number = (reversed_number * 10) + last_digit\n",
    "print(\"Palindrome Number\" if reversed_number == original_number else \"Not a Palindrome Number\")"
   ]
  },
  {
   "cell_type": "markdown",
   "id": "baa6a34b-cd17-4345-9491-efcb1b4d64f0",
   "metadata": {},
   "source": [
    "16. Write a program to check if a number is Armstrong Number or not."
   ]
  },
  {
   "cell_type": "code",
   "execution_count": 35,
   "id": "b43de86d-0185-4bed-9e12-3fc42741c770",
   "metadata": {},
   "outputs": [
    {
     "name": "stdin",
     "output_type": "stream",
     "text": [
      "Enter the number to check if Armstrong. 2424\n"
     ]
    },
    {
     "name": "stdout",
     "output_type": "stream",
     "text": [
      "Not a Armstrong Number\n"
     ]
    }
   ],
   "source": [
    "number =input(\"Enter the number to check if Armstrong.\")\n",
    "length_of_number = len(number)\n",
    "original_number = int(number)\n",
    "resulting_number = 0\n",
    "\n",
    "for i in range(length_of_number):\n",
    "    last_digit = int(number) % 10\n",
    "    resulting_number += last_digit ** length_of_number\n",
    "    number = int(number) // 10\n",
    "\n",
    "print(\"Armstrong Number\" if resulting_number == original_number else \"Not a Armstrong Number\")    "
   ]
  },
  {
   "cell_type": "code",
   "execution_count": null,
   "id": "cb53fb98-fd4c-48c7-bbac-8b9114622638",
   "metadata": {},
   "outputs": [],
   "source": []
  }
 ],
 "metadata": {
  "kernelspec": {
   "display_name": "Python 3 (ipykernel)",
   "language": "python",
   "name": "python3"
  },
  "language_info": {
   "codemirror_mode": {
    "name": "ipython",
    "version": 3
   },
   "file_extension": ".py",
   "mimetype": "text/x-python",
   "name": "python",
   "nbconvert_exporter": "python",
   "pygments_lexer": "ipython3",
   "version": "3.12.5"
  }
 },
 "nbformat": 4,
 "nbformat_minor": 5
}
