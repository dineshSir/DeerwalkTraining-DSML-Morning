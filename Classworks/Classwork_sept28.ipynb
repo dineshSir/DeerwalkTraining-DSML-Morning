{
 "cells": [
  {
   "cell_type": "markdown",
   "metadata": {},
   "source": [
    "# Q. Email pattern matching."
   ]
  },
  {
   "cell_type": "code",
   "execution_count": 1,
   "metadata": {},
   "outputs": [
    {
     "name": "stdout",
     "output_type": "stream",
     "text": [
      "It perfectly follows the valid email pattern.\n",
      "The local part is: dineshgautam and the domain is: prisma-soft.com.np\n"
     ]
    }
   ],
   "source": [
    "import re\n",
    "check_email = \"dineshgautam@prisma-soft.com.np\"\n",
    "pattern = r'^[a-zA-Z0-9]([._%+-]?[a-zA-Z0-9]){0,63}@(([a-zA-Z0-9]([-][a-zA-Z0-9])?)+)\\.[a-zA-Z0-0]{2,}(\\.[a-zA-Z])?'\n",
    "match = re.match(pattern, check_email)\n",
    "\n",
    "if match:\n",
    "    print(\"It perfectly follows the valid email pattern.\")\n",
    "else:\n",
    "    print(\"It does not follow the valid email pattern\")\n",
    "\n",
    "parts = check_email.split(\"@\")\n",
    "print(f\"The local part is: {parts[0]} and the domain is: {parts[1]}\")"
   ]
  },
  {
   "cell_type": "code",
   "execution_count": null,
   "metadata": {},
   "outputs": [],
   "source": []
  }
 ],
 "metadata": {
  "kernelspec": {
   "display_name": "venv",
   "language": "python",
   "name": "python3"
  },
  "language_info": {
   "codemirror_mode": {
    "name": "ipython",
    "version": 3
   },
   "file_extension": ".py",
   "mimetype": "text/x-python",
   "name": "python",
   "nbconvert_exporter": "python",
   "pygments_lexer": "ipython3",
   "version": "3.12.5"
  }
 },
 "nbformat": 4,
 "nbformat_minor": 2
}
