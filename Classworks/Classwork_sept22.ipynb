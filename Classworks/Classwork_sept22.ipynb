{
 "cells": [
  {
   "cell_type": "markdown",
   "id": "785ab833-33dd-41fb-8fa9-63317317dac7",
   "metadata": {},
   "source": [
    "# Classwork: September 22, 2024\n"
   ]
  },
  {
   "cell_type": "markdown",
   "id": "8d282337-2e41-46e0-8210-568ba82977a3",
   "metadata": {},
   "source": [
    "# You are given a 2D list (matrix) of integers representing a grid, where each inner list represents a row in the grid. Write a Python program that:\n",
    "<ul>\n",
    "    <li>Flattens the 2D list into a 1D list.</li>\n",
    "    <li>Finds the second largest element in the flattened list.</li>\n",
    "</ul>"
   ]
  },
  {
   "cell_type": "code",
   "execution_count": 1,
   "id": "6e7d5fb7-90dd-4d20-bba0-07cff33389d6",
   "metadata": {},
   "outputs": [
    {
     "name": "stdout",
     "output_type": "stream",
     "text": [
      "The required flatenned-grid is: [4, 3, 8, 7, 5, 9, 6, 2, 1]\n"
     ]
    },
    {
     "name": "stdin",
     "output_type": "stream",
     "text": [
      "Which larger value would you like to select from the flatenned grid?   ->  8\n"
     ]
    },
    {
     "name": "stdout",
     "output_type": "stream",
     "text": [
      "The flatenned grid with first 8 elements bubble sorted: [9, 8, 7, 6, 5, 4, 3, 2, 1]\n",
      "The 8st/nd/rd/th largest element in the flatenned grid is: 2\n"
     ]
    }
   ],
   "source": [
    "grid = [\n",
    "    [4, 3, 8],\n",
    "    [7, 5, 9],\n",
    "    [6, 2, 1]\n",
    "]\n",
    "\n",
    "#initializing the flatenned grid as a empty list and adding the elements from each rows of the grid\n",
    "flatenned_grid = list()\n",
    "for row in grid:\n",
    "    for element in row:\n",
    "        flatenned_grid.append(element)\n",
    "print(f\"The required flatenned-grid is: {flatenned_grid}\")\n",
    "\n",
    "#Checking if the required largest exists in the flatenned_grid\n",
    "while True:\n",
    "    nth_larger_value = int(input(\"Which larger value would you like to select from the flatenned grid?   -> \"))\n",
    "    if nth_larger_value > len(flatenned_grid) or nth_larger_value < 1:\n",
    "        print(f\"{nth_larger_value}th greater value don't exist in the flatenned grid. Please try another number: \")\n",
    "        continue\n",
    "    else:\n",
    "        break\n",
    "\n",
    "#Implementing loop for bubble sort (until the required largest is achieved)\n",
    "for index, number in enumerate(flatenned_grid):\n",
    "    for index2 in range(index + 1, len(flatenned_grid)):\n",
    "        if flatenned_grid[index] < flatenned_grid[index2]:\n",
    "            flatenned_grid[index], flatenned_grid[index2] = flatenned_grid[index2], flatenned_grid[index]\n",
    "    if index == nth_larger_value - 1:  #Condition to stop loop if the required bubble sort is completed, to achieve required largest.\n",
    "        break\n",
    "print(f\"The flatenned grid with first {nth_larger_value} elements bubble sorted: {flatenned_grid}\")\n",
    "print(f\"The {nth_larger_value}st/nd/rd/th largest element in the flatenned grid is: {flatenned_grid[nth_larger_value - 1]}\")"
   ]
  },
  {
   "cell_type": "markdown",
   "id": "2f5d2f6e-3a4d-4299-a9da-c1ee79eb571c",
   "metadata": {},
   "source": [
    "# Matrix Multiplication Implementation as a Python Program"
   ]
  },
  {
   "cell_type": "code",
   "execution_count": 3,
   "id": "e68a28f0-c517-47b3-9989-0bc949ec85a2",
   "metadata": {},
   "outputs": [
    {
     "name": "stdout",
     "output_type": "stream",
     "text": [
      "The required output from the multiplication is:\n",
      "[[76, 97], [127, 160]]\n"
     ]
    }
   ],
   "source": [
    "A = [[1, 2, 9], [4, 9, 10]]\n",
    "B = [[3, 4], [5, 6], [7, 9]]\n",
    "\n",
    "#Checking validity of Matrices used.\n",
    "valid = False\n",
    "for row in A:\n",
    "    for row2 in B:\n",
    "        length, length2 = len(A[0]), len(B[0]) \n",
    "        if len(row) == length and len(row2) == length2:\n",
    "            valid = True  \n",
    "        else:\n",
    "            print(\"Not a valid Matrix\")\n",
    "\n",
    "#Checking if the matrices are valid for multiplication\n",
    "validMul = False\n",
    "if valid:\n",
    "    if len(A[0]) == len(B):\n",
    "        validMul = True\n",
    "    else:\n",
    "        print(\"Valid matrices you provided are not valid for matrix multiplication\")\n",
    "\n",
    "#Initialization of a Product Matrix\n",
    "pro_matrix = [[0 for _ in range(len(B[0])) ]for _ in range(len(A))]\n",
    "\n",
    "#Calculation of the product\n",
    "for i in range(len(A)):\n",
    "    for j in range(len(B[0])):\n",
    "        for k in range(len(A[0])):\n",
    "            pro_matrix[i][j] += A[i][k] * B[k][j]\n",
    "\n",
    "print(f\"The required output from the multiplication is:\")\n",
    "print(pro_matrix)\n",
    "        "
   ]
  }
 ],
 "metadata": {
  "kernelspec": {
   "display_name": "Python 3 (ipykernel)",
   "language": "python",
   "name": "python3"
  },
  "language_info": {
   "codemirror_mode": {
    "name": "ipython",
    "version": 3
   },
   "file_extension": ".py",
   "mimetype": "text/x-python",
   "name": "python",
   "nbconvert_exporter": "python",
   "pygments_lexer": "ipython3",
   "version": "3.12.5"
  }
 },
 "nbformat": 4,
 "nbformat_minor": 5
}
