{
 "cells": [
  {
   "cell_type": "markdown",
   "id": "db29d43b-a28d-4999-8405-72572853149f",
   "metadata": {},
   "source": [
    "# An Example of MultiLevel Inheritance with @property Decorator."
   ]
  },
  {
   "cell_type": "code",
   "execution_count": 2,
   "id": "09e03ace-def8-4d90-98ef-2c29f6041288",
   "metadata": {},
   "outputs": [],
   "source": [
    "import datetime"
   ]
  },
  {
   "cell_type": "code",
   "execution_count": 5,
   "id": "5e0d37af-f771-4827-99fa-2e328ac902d7",
   "metadata": {},
   "outputs": [
    {
     "name": "stdout",
     "output_type": "stream",
     "text": [
      "Details Of Aseem:\n",
      "\n",
      "55000\n",
      "715000\n",
      "550.0\n",
      "\n",
      "Updated:\n",
      "61538.46153846154\n",
      "800000.0\n",
      "615.3846153846154\n",
      "------------------\n",
      "Details Of Bimal:\n",
      "\n",
      "112000\n",
      "1344000\n",
      "1120.0\n",
      "140\n",
      "\n",
      "Updated: \n",
      "\n",
      "125000.0\n",
      "1500000.0\n",
      "1250.0\n",
      "156.25\n"
     ]
    }
   ],
   "source": [
    "class Person:\n",
    "    def __init__(self, f_name, l_name, year, month, day, email):\n",
    "        self.f_name = f_name\n",
    "        self.l_name = l_name\n",
    "        self.dob = datetime.date(year, month, day)\n",
    "        self.email = email\n",
    "\n",
    "    @property\n",
    "    def age(self):\n",
    "        present_date = datetime.datetime.now().date()\n",
    "        age = (present_date - self.dob).days // 365\n",
    "        return age\n",
    "    \n",
    "    def __str__(self):\n",
    "        return f\"{self.f_name} {self.l_name}\"\n",
    "\n",
    "class Employee(Person):\n",
    "    def __init__(self, f_name, l_name, year, month, day, email, company, department, position):\n",
    "        Person.__init__(self, f_name, l_name, year, month, day, email)\n",
    "        self.company = company\n",
    "        self.department = department\n",
    "        self.position = position\n",
    "\n",
    "\n",
    "class PartTimeEmployee(Employee):\n",
    "    hourly_pay = 800\n",
    "    def __init__(self, f_name, l_name, year, month, day, email, company, department, position, working_hours_per_month):\n",
    "        Employee.__init__(self, f_name, l_name, year, month, day, email, company, department, position)\n",
    "        self.working_hours_per_month = working_hours_per_month\n",
    "        self.monthly_salary = working_hours_per_month * self.hourly_pay\n",
    "\n",
    "    @property\n",
    "    def yearly_salary(self):\n",
    "        return self.monthly_salary * 12\n",
    "\n",
    "    @yearly_salary.setter\n",
    "    def yearly_salary(self, amount):\n",
    "        if amount <= 0:\n",
    "            raise ValueError (\"The Amount should be greater than Zero.\")\n",
    "        else:\n",
    "            self.monthly_salary = amount / 12 \n",
    "            self.working_hours_per_month = self.monthly_salary/ 800\n",
    "\n",
    "    @property\n",
    "    def monthly_tax(self):\n",
    "        return self.monthly_salary * 0.01\n",
    "\n",
    "\n",
    "class FullTimeEmployee(Employee):\n",
    "    def __init__(self, f_name, l_name, year, month, day, email, company, department, position, monthly_salary):\n",
    "        Employee.__init__(self, f_name, l_name, year, month, day, email, company, department, position)\n",
    "        self.monthly_salary = monthly_salary\n",
    "\n",
    "    @property\n",
    "    def yearly_salary(self):\n",
    "        return self.monthly_salary * 13\n",
    "\n",
    "    @yearly_salary.setter\n",
    "    def yearly_salary(self, amount):\n",
    "        if amount <= 0:\n",
    "            raise ValueError (\"Yearly salary must be greater than zero.\")\n",
    "        else:\n",
    "            self.monthly_salary = amount / 13\n",
    "\n",
    "    @property\n",
    "    def monthly_tax(self):\n",
    "        return self.monthly_salary * 0.01\n",
    "        \n",
    "\n",
    "aseem = FullTimeEmployee(\"Aseem\", \"Ghimire\", 1994, 10, 21, \"helloaseem007@gmail.com\", \"Infinite Software Services Nepal\", \"RND-2\", \"Software Engineer - I\", 55000)\n",
    "bimal = PartTimeEmployee(\"Bimal\", \"Ojha\", 1997, 3, 12, \"bimal.ojha009@gmail.com\", \"Universal Engineering College\", \"Civil\", \"Lecturer\", 140)\n",
    "\n",
    "print(\"Details Of Aseem:\")\n",
    "print()\n",
    "print(aseem.monthly_salary)\n",
    "print(aseem.yearly_salary)\n",
    "print(aseem.monthly_tax)\n",
    "aseem.yearly_salary = 800000\n",
    "print()\n",
    "print(\"Updated:\")\n",
    "print(aseem.monthly_salary)\n",
    "print(aseem.yearly_salary)\n",
    "print(aseem.monthly_tax)\n",
    "print(\"------------------\")\n",
    "\n",
    "print(\"Details Of Bimal:\")\n",
    "print()\n",
    "print(bimal.monthly_salary)\n",
    "print(bimal.yearly_salary)\n",
    "print(bimal.monthly_tax)\n",
    "print(bimal.working_hours_per_month)\n",
    "print()\n",
    "print(\"Updated: \")\n",
    "print()\n",
    "bimal.yearly_salary = 1500000\n",
    "print(bimal.monthly_salary)\n",
    "print(bimal.yearly_salary)\n",
    "print(bimal.monthly_tax)\n",
    "print(bimal.working_hours_per_month)\n",
    "\n",
    "\n",
    "\n"
   ]
  },
  {
   "cell_type": "markdown",
   "id": "0d01a9ae-1cd7-4090-9ca7-7fefb213f639",
   "metadata": {},
   "source": [
    "# Static Method - An Example\n",
    "A static method in Python is a method defined within a class that is not tied to a specific instance of the class. Instead, it operates on the class level without requiring access to instance variables or methods."
   ]
  },
  {
   "cell_type": "code",
   "execution_count": 68,
   "id": "9ce6d3d2-a982-4f44-98d2-be892f48f2cd",
   "metadata": {},
   "outputs": [
    {
     "name": "stdout",
     "output_type": "stream",
     "text": [
      "15\n"
     ]
    }
   ],
   "source": [
    "class MathOperations:\n",
    "    @staticmethod\n",
    "    def add_numbers(a, b):\n",
    "        return a + b\n",
    "\n",
    "# Using the static method without creating an instance of the class\n",
    "result = MathOperations.add_numbers(5, 10)\n",
    "print(result)"
   ]
  },
  {
   "cell_type": "markdown",
   "id": "4ae1651c-8e98-45ac-914e-5a33b37d1d6f",
   "metadata": {},
   "source": [
    "# Class Method - An Example\n",
    "A class method in Python is a method that is bound to the class and not the instance of the class. It operates on the class itself and has access to class variables. Class methods are often used for factory methods that return an instance of the class."
   ]
  },
  {
   "cell_type": "code",
   "execution_count": 69,
   "id": "ab536cfc-c6ee-4bf7-8c97-910679a9c61e",
   "metadata": {},
   "outputs": [
    {
     "name": "stdout",
     "output_type": "stream",
     "text": [
      "Initial wheels: 4\n",
      "Wheels after change: 6\n",
      "Toyota Corolla\n"
     ]
    }
   ],
   "source": [
    "class Car:\n",
    "    # Class attribute\n",
    "    wheels = 4\n",
    "    \n",
    "    def __init__(self, brand, model):\n",
    "        self.brand = brand\n",
    "        self.model = model\n",
    "\n",
    "    # Class method to change the class-level attribute\n",
    "    @classmethod\n",
    "    def change_wheels(cls, new_wheel_count):\n",
    "        cls.wheels = new_wheel_count\n",
    "\n",
    "    # Class method as a factory to create new instances\n",
    "    @classmethod\n",
    "    def from_string(cls, car_string):\n",
    "        brand, model = car_string.split('-')\n",
    "        return cls(brand, model)\n",
    "\n",
    "# Using class method to modify class-level attribute\n",
    "print(\"Initial wheels:\", Car.wheels)  # Output: Initial wheels: 4\n",
    "Car.change_wheels(6)\n",
    "print(\"Wheels after change:\", Car.wheels)\n",
    "\n",
    "# Using class method as a factory to create a new instance\n",
    "car_string = \"Toyota-Corolla\"\n",
    "new_car = Car.from_string(car_string)\n",
    "print(new_car.brand, new_car.model)"
   ]
  },
  {
   "cell_type": "markdown",
   "id": "f75815b0-8b1c-4db6-8e80-5219c0142c73",
   "metadata": {},
   "source": [
    "# Q. From the given CSV create objects for each person in the CSV by using Class Method. "
   ]
  },
  {
   "cell_type": "code",
   "execution_count": 24,
   "id": "a2ee3d1e-7be1-4afa-9257-b653fb5ca5bc",
   "metadata": {},
   "outputs": [
    {
     "name": "stdout",
     "output_type": "stream",
     "text": [
      "Lory Stav from Udon Thani of age 43.\n",
      "Chandra Stoller from Zhengzhou of age 114.\n",
      "Elvira Malvino from Apia of age 29.\n",
      "Mariele Gaal from Karachi of age 98.\n",
      "Merle Marcellus from Pattaya of age 11.\n",
      "Renae Ietta from Busan of age 118.\n",
      "Leeanne Longfellow from Kabul of age 17.\n",
      "Max Torray from Boston of age 121.\n",
      "Tabbatha Esmaria from Winnipeg of age 92.\n",
      "Amii Sidonius from Stockholm of age 90.\n"
     ]
    }
   ],
   "source": [
    "class Person:\n",
    "    def __init__(self, f_name, l_name, year, month, day, address):\n",
    "        self.f_name = f_name\n",
    "        self.l_name = l_name\n",
    "        self.dob = datetime.date(year, month, day)\n",
    "        self.address = address\n",
    "\n",
    "    def __str__(self):\n",
    "        return(f\"{self.fname} {self.lname} - {self.address}\")\n",
    "\n",
    "    @property\n",
    "    def age(self):\n",
    "        age = (datetime.datetime.now().date() - self.dob).days // 365\n",
    "        return age\n",
    "\n",
    "    @classmethod\n",
    "    def from_csv_file(cls, file_name):\n",
    "        person_array = []\n",
    "        with open(file_name, \"r\") as file:\n",
    "            for line in file.readlines()[1:]:\n",
    "                f_name, l_name, dob, address = line.strip().split(\",\")\n",
    "                str_year, str_month, str_day = (dob.split(\"-\"))\n",
    "                year, month, day = int(str_year), int(str_month), int(str_day)\n",
    "                person_array.append(cls(f_name, l_name, year, month, day, address))\n",
    "        return person_array\n",
    "\n",
    "people = Person.from_csv_file(\"datafile.csv\")\n",
    "for person in people[0:10]:\n",
    "    print(f\"{person.f_name} {person.l_name} from {person.address} of age {person.age}.\")\n",
    "\n",
    "\n"
   ]
  },
  {
   "cell_type": "markdown",
   "id": "8e66a216-9a46-4379-836a-0918bb259f4f",
   "metadata": {},
   "source": [
    "# Using Regular Expression for splitting."
   ]
  },
  {
   "cell_type": "code",
   "execution_count": 26,
   "id": "4ca90af4-1519-4190-99c5-1c2d77fddfd9",
   "metadata": {},
   "outputs": [],
   "source": [
    "import re"
   ]
  },
  {
   "cell_type": "code",
   "execution_count": 40,
   "id": "4cbc20af-3b17-49ae-9ba7-2208349b3ebf",
   "metadata": {},
   "outputs": [
    {
     "name": "stdout",
     "output_type": "stream",
     "text": [
      "Lory Stav from Udon Thani of age 43.\n",
      "Chandra Stoller from Zhengzhou of age 114.\n",
      "Elvira Malvino from Apia of age 29.\n",
      "Mariele Gaal from Karachi of age 98.\n",
      "Merle Marcellus from Pattaya of age 11.\n",
      "Renae Ietta from Busan of age 118.\n",
      "Leeanne Longfellow from Kabul of age 17.\n",
      "Max Torray from Boston of age 121.\n",
      "Tabbatha Esmaria from Winnipeg of age 92.\n",
      "Amii Sidonius from Stockholm of age 90.\n"
     ]
    }
   ],
   "source": [
    "class Person:\n",
    "    def __init__(self, f_name, l_name, year, month, day, address):\n",
    "        self.f_name = f_name\n",
    "        self.l_name = l_name\n",
    "        self.dob = datetime.date(year, month, day)\n",
    "        self.address = address\n",
    "\n",
    "    def __str__(self):\n",
    "        return(f\"{self.fname} {self.lname} - {self.address}\")\n",
    "\n",
    "    @property\n",
    "    def age(self):\n",
    "        age = (datetime.datetime.now().date() - self.dob).days // 365\n",
    "        return age\n",
    "\n",
    "    @classmethod\n",
    "    def from_csv_file(cls, file_name):\n",
    "        person_array = []\n",
    "        # Chandra,Stoller,1910-10-16,Zhengzhou\n",
    "        primary_pattern = r\"([a-zA-Z ]+),([a-zA-Z ]+),([0-9-]+),([a-zA-Z ]+)\"\n",
    "        date_pattern = r'(\\d{4})-(\\d{1,2})-(\\d{1,2})' #just utilizing concept, pattern maynot be as expected for every dates\n",
    "        with open(file_name, \"r\") as file:\n",
    "            for line in file.readlines()[1:]:\n",
    "                stripped = line.strip()\n",
    "                match = re.search(primary_pattern, stripped)\n",
    "                if match:\n",
    "                    f_name, l_name, dob, address = match.group(1), match.group(2), match.group(3), match.group(4)\n",
    "\n",
    "                match2 = re.search(date_pattern, dob)\n",
    "                if match2:\n",
    "                    year, month, day = int(match2.group(1)), int(match2.group(2)), int(match2.group(3))\n",
    "              \n",
    "                person_array.append(cls(f_name, l_name, year, month, day, address))\n",
    "        return person_array\n",
    "\n",
    "people = Person.from_csv_file(\"datafile.csv\")\n",
    "for person in people[0:10]:\n",
    "    print(f\"{person.f_name} {person.l_name} from {person.address} of age {person.age}.\")\n",
    "\n",
    "\n"
   ]
  },
  {
   "cell_type": "code",
   "execution_count": null,
   "id": "61f40718-ea72-450b-849c-c761889007cf",
   "metadata": {},
   "outputs": [],
   "source": []
  }
 ],
 "metadata": {
  "kernelspec": {
   "display_name": "Python 3 (ipykernel)",
   "language": "python",
   "name": "python3"
  },
  "language_info": {
   "codemirror_mode": {
    "name": "ipython",
    "version": 3
   },
   "file_extension": ".py",
   "mimetype": "text/x-python",
   "name": "python",
   "nbconvert_exporter": "python",
   "pygments_lexer": "ipython3",
   "version": "3.12.5"
  }
 },
 "nbformat": 4,
 "nbformat_minor": 5
}
