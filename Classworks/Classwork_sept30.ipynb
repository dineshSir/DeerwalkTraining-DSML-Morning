{
 "cells": [
  {
   "cell_type": "markdown",
   "metadata": {},
   "source": [
    "# Q. Implement Inheritance in Python."
   ]
  },
  {
   "cell_type": "code",
   "execution_count": 10,
   "metadata": {},
   "outputs": [
    {
     "name": "stdout",
     "output_type": "stream",
     "text": [
      "150.0\n",
      "1990-09-11\n"
     ]
    }
   ],
   "source": [
    "from datetime import date\n",
    "class Person:\n",
    "    def __init__(self, fname, lname, year, month, day, citizenship_no):\n",
    "        self.fname = fname\n",
    "        self.lname = lname\n",
    "        self.dob = date(year, month, day)\n",
    "        self.citizenship_no = citizenship_no\n",
    "\n",
    "class Employee(Person):\n",
    "    def __init__(self, fname, lname, year, month, day, ciizenship_no, salary, department):\n",
    "        super().__init__(fname, lname, year, month, day, ciizenship_no)\n",
    "        self.salary = salary\n",
    "        self.department = department\n",
    "        self.tax = None\n",
    "\n",
    "    def calculate_and_return_tax(self):\n",
    "        self.tax = 0.01 * self.salary\n",
    "        return self.tax\n",
    "\n",
    "    \n",
    "ram = Employee(\"Ram\", \"Maharjan\", 1990, 9, 11, \"04-094892\", 15000, \"IT\")\n",
    "print(ram.calculate_and_return_tax())\n",
    "print(ram.dob)\n",
    "\n",
    "\n",
    "\n"
   ]
  }
 ],
 "metadata": {
  "kernelspec": {
   "display_name": "venv",
   "language": "python",
   "name": "python3"
  },
  "language_info": {
   "codemirror_mode": {
    "name": "ipython",
    "version": 3
   },
   "file_extension": ".py",
   "mimetype": "text/x-python",
   "name": "python",
   "nbconvert_exporter": "python",
   "pygments_lexer": "ipython3",
   "version": "3.12.5"
  }
 },
 "nbformat": 4,
 "nbformat_minor": 2
}
